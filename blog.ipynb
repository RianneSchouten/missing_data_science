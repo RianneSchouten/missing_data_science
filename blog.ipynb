{
 "cells": [
  {
   "cell_type": "markdown",
   "metadata": {},
   "source": [
    "# Missing Values Treatment in Data Science\n",
    "\n",
    "In an application-orientated field like data science, available datasets are almost always incomplete. Whether you like it or not, missing values treatment will therefore become part of the whole process of data exploration, data cleaning, feature engineering and the development of an analysis model. \n",
    "\n",
    "Even in the situation where a data scientist quickly drops incomplete records from a dataset, a missing values treatment has (unconsciously) been chosen. Was it the most appropriate method, though? Or would the analysis outcome become different when a different missing data method was applied? \n",
    "\n",
    "In this post, we present an interactive plot that can be used to explore the effect of missing data methods on evaluation error metrics of a data science regression model.  "
   ]
  },
  {
   "cell_type": "markdown",
   "metadata": {},
   "source": [
    "## Missing data exploration\n",
    "\n",
    "Consider dataset 'Concrete Slump Test' from https://archive.ics.uci.edu/ml/machine-learning-databases/concrete/slump/. The data consists of 7 numerical features predicting the slump of concrete in centimeters. Because the original dataset does not contain missing values, we generated the missing values with our custom function `delete_data()` (all our functions and simulation code can be found on https://github.com/RianneSchouten/missing_data_science).\n",
    "\n",
    "Let's quickly explore the incomplete dataset. "
   ]
  },
  {
   "cell_type": "code",
   "execution_count": 37,
   "metadata": {},
   "outputs": [
    {
     "data": {
      "text/plain": [
       "(103, 8)"
      ]
     },
     "execution_count": 37,
     "metadata": {},
     "output_type": "execute_result"
    }
   ],
   "source": [
    "import pandas as pd\n",
    "data_slump = pd.read_table('Data/slump_test_MCAR.txt', sep='\\t')\n",
    "data_slump.shape"
   ]
  },
  {
   "cell_type": "code",
   "execution_count": 38,
   "metadata": {},
   "outputs": [
    {
     "data": {
      "text/html": [
       "<div>\n",
       "<style>\n",
       "    .dataframe thead tr:only-child th {\n",
       "        text-align: right;\n",
       "    }\n",
       "\n",
       "    .dataframe thead th {\n",
       "        text-align: left;\n",
       "    }\n",
       "\n",
       "    .dataframe tbody tr th {\n",
       "        vertical-align: top;\n",
       "    }\n",
       "</style>\n",
       "<table border=\"1\" class=\"dataframe\">\n",
       "  <thead>\n",
       "    <tr style=\"text-align: right;\">\n",
       "      <th></th>\n",
       "      <th>Cement</th>\n",
       "      <th>Slag</th>\n",
       "      <th>Fly ash</th>\n",
       "      <th>Water</th>\n",
       "      <th>SP</th>\n",
       "      <th>Coarse Aggr.</th>\n",
       "      <th>Fine Aggr.</th>\n",
       "      <th>SLUMP(cm)</th>\n",
       "    </tr>\n",
       "  </thead>\n",
       "  <tbody>\n",
       "    <tr>\n",
       "      <th>count</th>\n",
       "      <td>78.000000</td>\n",
       "      <td>78.000000</td>\n",
       "      <td>78.000000</td>\n",
       "      <td>78.000000</td>\n",
       "      <td>78.000000</td>\n",
       "      <td>78.000000</td>\n",
       "      <td>78.000000</td>\n",
       "      <td>1.030000e+02</td>\n",
       "    </tr>\n",
       "    <tr>\n",
       "      <th>mean</th>\n",
       "      <td>0.006036</td>\n",
       "      <td>-0.104102</td>\n",
       "      <td>-0.124301</td>\n",
       "      <td>-0.018298</td>\n",
       "      <td>-0.012871</td>\n",
       "      <td>0.024598</td>\n",
       "      <td>0.054493</td>\n",
       "      <td>-2.004869e-16</td>\n",
       "    </tr>\n",
       "    <tr>\n",
       "      <th>std</th>\n",
       "      <td>1.010530</td>\n",
       "      <td>1.012177</td>\n",
       "      <td>1.028261</td>\n",
       "      <td>1.006384</td>\n",
       "      <td>1.050937</td>\n",
       "      <td>0.990258</td>\n",
       "      <td>1.061685</td>\n",
       "      <td>1.004890e+00</td>\n",
       "    </tr>\n",
       "    <tr>\n",
       "      <th>min</th>\n",
       "      <td>-1.183465</td>\n",
       "      <td>-1.295953</td>\n",
       "      <td>-1.753063</td>\n",
       "      <td>-1.848249</td>\n",
       "      <td>-1.481747</td>\n",
       "      <td>-2.000638</td>\n",
       "      <td>-1.570661</td>\n",
       "      <td>-2.072577e+00</td>\n",
       "    </tr>\n",
       "    <tr>\n",
       "      <th>25%</th>\n",
       "      <td>-0.992366</td>\n",
       "      <td>-1.295953</td>\n",
       "      <td>-0.561920</td>\n",
       "      <td>-0.853710</td>\n",
       "      <td>-0.909064</td>\n",
       "      <td>-0.707455</td>\n",
       "      <td>-0.878176</td>\n",
       "      <td>-4.074917e-01</td>\n",
       "    </tr>\n",
       "    <tr>\n",
       "      <th>50%</th>\n",
       "      <td>0.232578</td>\n",
       "      <td>0.206528</td>\n",
       "      <td>-0.000171</td>\n",
       "      <td>-0.157533</td>\n",
       "      <td>-0.246900</td>\n",
       "      <td>-0.022494</td>\n",
       "      <td>0.093523</td>\n",
       "      <td>3.963428e-01</td>\n",
       "    </tr>\n",
       "    <tr>\n",
       "      <th>75%</th>\n",
       "      <td>0.943466</td>\n",
       "      <td>0.632010</td>\n",
       "      <td>0.844805</td>\n",
       "      <td>0.582155</td>\n",
       "      <td>0.522643</td>\n",
       "      <td>0.787237</td>\n",
       "      <td>0.796320</td>\n",
       "      <td>6.834265e-01</td>\n",
       "    </tr>\n",
       "    <tr>\n",
       "      <th>max</th>\n",
       "      <td>1.835897</td>\n",
       "      <td>1.662472</td>\n",
       "      <td>1.164501</td>\n",
       "      <td>2.129907</td>\n",
       "      <td>3.743983</td>\n",
       "      <td>1.886300</td>\n",
       "      <td>2.576315</td>\n",
       "      <td>1.257594e+00</td>\n",
       "    </tr>\n",
       "  </tbody>\n",
       "</table>\n",
       "</div>"
      ],
      "text/plain": [
       "          Cement       Slag    Fly ash      Water         SP  Coarse Aggr.  \\\n",
       "count  78.000000  78.000000  78.000000  78.000000  78.000000     78.000000   \n",
       "mean    0.006036  -0.104102  -0.124301  -0.018298  -0.012871      0.024598   \n",
       "std     1.010530   1.012177   1.028261   1.006384   1.050937      0.990258   \n",
       "min    -1.183465  -1.295953  -1.753063  -1.848249  -1.481747     -2.000638   \n",
       "25%    -0.992366  -1.295953  -0.561920  -0.853710  -0.909064     -0.707455   \n",
       "50%     0.232578   0.206528  -0.000171  -0.157533  -0.246900     -0.022494   \n",
       "75%     0.943466   0.632010   0.844805   0.582155   0.522643      0.787237   \n",
       "max     1.835897   1.662472   1.164501   2.129907   3.743983      1.886300   \n",
       "\n",
       "       Fine Aggr.     SLUMP(cm)  \n",
       "count   78.000000  1.030000e+02  \n",
       "mean     0.054493 -2.004869e-16  \n",
       "std      1.061685  1.004890e+00  \n",
       "min     -1.570661 -2.072577e+00  \n",
       "25%     -0.878176 -4.074917e-01  \n",
       "50%      0.093523  3.963428e-01  \n",
       "75%      0.796320  6.834265e-01  \n",
       "max      2.576315  1.257594e+00  "
      ]
     },
     "execution_count": 38,
     "metadata": {},
     "output_type": "execute_result"
    }
   ],
   "source": [
    "data_slump.describe()"
   ]
  },
  {
   "cell_type": "code",
   "execution_count": 39,
   "metadata": {},
   "outputs": [
    {
     "data": {
      "text/plain": [
       "Cement           True\n",
       "Slag             True\n",
       "Fly ash          True\n",
       "Water            True\n",
       "SP               True\n",
       "Coarse Aggr.     True\n",
       "Fine Aggr.       True\n",
       "SLUMP(cm)       False\n",
       "dtype: bool"
      ]
     },
     "execution_count": 39,
     "metadata": {},
     "output_type": "execute_result"
    }
   ],
   "source": [
    "data_slump.isnull().any()"
   ]
  },
  {
   "cell_type": "code",
   "execution_count": 40,
   "metadata": {},
   "outputs": [
    {
     "data": {
      "text/plain": [
       "Cement          25\n",
       "Slag            25\n",
       "Fly ash         25\n",
       "Water           25\n",
       "SP              25\n",
       "Coarse Aggr.    25\n",
       "Fine Aggr.      25\n",
       "SLUMP(cm)        0\n",
       "dtype: int64"
      ]
     },
     "execution_count": 40,
     "metadata": {},
     "output_type": "execute_result"
    }
   ],
   "source": [
    "data_slump.isnull().sum()"
   ]
  },
  {
   "cell_type": "code",
   "execution_count": 41,
   "metadata": {},
   "outputs": [
    {
     "data": {
      "text/html": [
       "<div>\n",
       "<style>\n",
       "    .dataframe thead tr:only-child th {\n",
       "        text-align: right;\n",
       "    }\n",
       "\n",
       "    .dataframe thead th {\n",
       "        text-align: left;\n",
       "    }\n",
       "\n",
       "    .dataframe tbody tr th {\n",
       "        vertical-align: top;\n",
       "    }\n",
       "</style>\n",
       "<table border=\"1\" class=\"dataframe\">\n",
       "  <thead>\n",
       "    <tr style=\"text-align: right;\">\n",
       "      <th></th>\n",
       "      <th>Cement</th>\n",
       "      <th>Slag</th>\n",
       "      <th>Fly ash</th>\n",
       "      <th>Water</th>\n",
       "      <th>SP</th>\n",
       "      <th>Coarse Aggr.</th>\n",
       "      <th>Fine Aggr.</th>\n",
       "      <th>SLUMP(cm)</th>\n",
       "    </tr>\n",
       "  </thead>\n",
       "  <tbody>\n",
       "    <tr>\n",
       "      <th>0</th>\n",
       "      <td>NaN</td>\n",
       "      <td>NaN</td>\n",
       "      <td>-0.517804</td>\n",
       "      <td>0.638098</td>\n",
       "      <td>NaN</td>\n",
       "      <td>NaN</td>\n",
       "      <td>-0.945600</td>\n",
       "      <td>0.568593</td>\n",
       "    </tr>\n",
       "    <tr>\n",
       "      <th>1</th>\n",
       "      <td>-0.852227</td>\n",
       "      <td>1.180482</td>\n",
       "      <td>0.493932</td>\n",
       "      <td>-0.853710</td>\n",
       "      <td>1.238496</td>\n",
       "      <td>-0.465871</td>\n",
       "      <td>0.101456</td>\n",
       "      <td>-2.072577</td>\n",
       "    </tr>\n",
       "    <tr>\n",
       "      <th>2</th>\n",
       "      <td>-0.864967</td>\n",
       "      <td>1.163861</td>\n",
       "      <td>0.493932</td>\n",
       "      <td>-0.903437</td>\n",
       "      <td>2.670203</td>\n",
       "      <td>-0.499977</td>\n",
       "      <td>0.053862</td>\n",
       "      <td>-1.957744</td>\n",
       "    </tr>\n",
       "    <tr>\n",
       "      <th>3</th>\n",
       "      <td>-0.864967</td>\n",
       "      <td>1.163861</td>\n",
       "      <td>0.482168</td>\n",
       "      <td>-0.903437</td>\n",
       "      <td>3.743983</td>\n",
       "      <td>-0.522715</td>\n",
       "      <td>0.022133</td>\n",
       "      <td>-1.728077</td>\n",
       "    </tr>\n",
       "    <tr>\n",
       "      <th>4</th>\n",
       "      <td>-0.966886</td>\n",
       "      <td>NaN</td>\n",
       "      <td>NaN</td>\n",
       "      <td>1.135368</td>\n",
       "      <td>NaN</td>\n",
       "      <td>0.443620</td>\n",
       "      <td>-1.294619</td>\n",
       "      <td>0.224093</td>\n",
       "    </tr>\n",
       "  </tbody>\n",
       "</table>\n",
       "</div>"
      ],
      "text/plain": [
       "     Cement      Slag   Fly ash     Water        SP  Coarse Aggr.  Fine Aggr.  \\\n",
       "0       NaN       NaN -0.517804  0.638098       NaN           NaN   -0.945600   \n",
       "1 -0.852227  1.180482  0.493932 -0.853710  1.238496     -0.465871    0.101456   \n",
       "2 -0.864967  1.163861  0.493932 -0.903437  2.670203     -0.499977    0.053862   \n",
       "3 -0.864967  1.163861  0.482168 -0.903437  3.743983     -0.522715    0.022133   \n",
       "4 -0.966886       NaN       NaN  1.135368       NaN      0.443620   -1.294619   \n",
       "\n",
       "   SLUMP(cm)  \n",
       "0   0.568593  \n",
       "1  -2.072577  \n",
       "2  -1.957744  \n",
       "3  -1.728077  \n",
       "4   0.224093  "
      ]
     },
     "execution_count": 41,
     "metadata": {},
     "output_type": "execute_result"
    }
   ],
   "source": [
    "data_slump.head()"
   ]
  },
  {
   "cell_type": "markdown",
   "metadata": {},
   "source": [
    "An easy way to get rid of missing values is by deleting all incomplete rows. Apart from the fact that this method can result in severely biased outcomes, dropping incomplete rows from the dataset would also make you lose a lot of valuable observed information. \n",
    "\n",
    "For example, for our `data_slump`, we would lose half of our dataset. "
   ]
  },
  {
   "cell_type": "code",
   "execution_count": 42,
   "metadata": {},
   "outputs": [
    {
     "data": {
      "text/plain": [
       "(54, 8)"
      ]
     },
     "execution_count": 42,
     "metadata": {},
     "output_type": "execute_result"
    }
   ],
   "source": [
    "data_slump.dropna().shape"
   ]
  },
  {
   "cell_type": "markdown",
   "metadata": {},
   "source": [
    "## Missing data mechanisms\n",
    "\n",
    "In missing data theory, we classify missing values into three kind of problems: MCAR, MAR and MNAR. For any dataset with missing values in a certain feature X, the missing data is: \n",
    "\n",
    "- Missing Completely At Random (MCAR) when all values have an equal probability of being missing. \n",
    "\n",
    "- Missing At Random (MAR) when the probability of being missing depends on the values of another feature or the outcome variable. For instance, records with high values for outcome variable 'SLUMP' have a higher probability of being missing on feature 'Cement' or 'Water' (maybe because in those cases it is harder to measure these features).\n",
    "\n",
    "- Missing Not At Random (MNAR) when the probability of being missing in feature X depends on the unobserved (missing) data. This can either be because suitable covariates for explaining missingness have not been recorded (or are otherwise unavailable) or the probability of being missing depends on the missing values itself. Extending the previous example, if the probability of measuring 'Cement' varied according to 'Cement' itself, this is missing not at random. \n",
    "\n",
    "Below, Figures 1, 2 and 3 show the effect of MCAR, MAR and MNAR missingness on the multivariate relationship between feature X and outcome variable Y. "
   ]
  },
  {
   "cell_type": "code",
   "execution_count": 43,
   "metadata": {
    "collapsed": true
   },
   "outputs": [],
   "source": [
    "## add figures: Figures/MCAR.pdf, Figures/MAR.pdf, Figures/MNAR.pdf"
   ]
  },
  {
   "cell_type": "markdown",
   "metadata": {},
   "source": [
    "Based on the observed data alone, we cannot distinguish between MAR and MNAR data. However, there are tests available to distinguish MCAR from the other two. The easiest test is Little's MCAR test (add reference). This test uses a chi-square test to know whether the overall missingness is MCAR. The null hypothesis is defined as: the data is MCAR. When the test returns a p-value smaller than 0.05, the null hypothesis can be rejected.\n",
    "\n",
    "A basic Little's MCAR test can be extracted from Rianne's github. "
   ]
  },
  {
   "cell_type": "code",
   "execution_count": 48,
   "metadata": {
    "collapsed": true
   },
   "outputs": [],
   "source": [
    "# import RianneSchouten/pymice/exploration/mcar_tests') Hoe doe ik dat? \n",
    "import numpy as np\n",
    "import pandas as pd\n",
    "import math as ma\n",
    "import scipy.stats as st\n",
    "\n",
    "def checks_input_mcar_tests(data):\n",
    "    \"\"\" Checks whether the input parameter of class McarTests is correct\n",
    "            Parameters\n",
    "            ----------\n",
    "            data:\n",
    "                The input of McarTests specified as 'data'\n",
    "            Returns\n",
    "            -------\n",
    "            bool\n",
    "                True if input is correct\n",
    "            \"\"\"\n",
    "\n",
    "    if not isinstance(data, pd.DataFrame):\n",
    "        print(\"Error: Data should be a Pandas DataFrame\")\n",
    "        return False\n",
    "\n",
    "    if not any(data.dtypes.values == np.float):\n",
    "        if not any(data.dtypes.values == np.int):\n",
    "            print(\"Error: Dataset cannot contain other value types than floats and/or integers\")\n",
    "            return False\n",
    "\n",
    "    if not data.isnull().values.any():\n",
    "        print(\"Error: No NaN's in given data\")\n",
    "        return False\n",
    "\n",
    "    return True\n",
    "\n",
    "class McarTests():\n",
    "\n",
    "    def __init__(self, data):\n",
    "        self.data = data\n",
    "\n",
    "    def mcar_test(self):\n",
    "        \"\"\" Implementation of Little's MCAR test\n",
    "        Parameters\n",
    "        ----------\n",
    "        data: Pandas DataFrame\n",
    "            An incomplete dataset with samples as index and variables as columns\n",
    "        Returns\n",
    "        -------\n",
    "        p_value: Float\n",
    "            This value is the outcome of a chi-square statistical test, testing whether the null hypothesis\n",
    "            'the missingness mechanism of the incomplete dataset is MCAR' can be rejected.\n",
    "        \"\"\"\n",
    "\n",
    "        if not checks_input_mcar_tests(self.data):\n",
    "            raise Exception(\"Input not correct\")\n",
    "\n",
    "        dataset = self.data.copy()\n",
    "        vars = dataset.dtypes.index.values\n",
    "        n_var = dataset.shape[1]\n",
    "\n",
    "        # mean and covariance estimates\n",
    "        # ideally, this is done with a maximum likelihood estimator\n",
    "        gmean = dataset.mean()\n",
    "        gcov = dataset.cov()\n",
    "\n",
    "        # set up missing data patterns\n",
    "        r = 1 * dataset.isnull()\n",
    "        mdp = np.dot(r, list(map(lambda x: ma.pow(2, x), range(n_var))))\n",
    "        sorted_mdp = sorted(np.unique(mdp))\n",
    "        n_pat = len(sorted_mdp)\n",
    "        correct_mdp = list(map(lambda x: sorted_mdp.index(x), mdp))\n",
    "        dataset['mdp'] = pd.Series(correct_mdp, index=dataset.index)\n",
    "\n",
    "        # calculate statistic and df\n",
    "        pj = 0\n",
    "        d2 = 0\n",
    "        for i in range(n_pat):\n",
    "            dataset_temp = dataset.loc[dataset['mdp'] == i, vars]\n",
    "            select_vars = ~dataset_temp.isnull().any()\n",
    "            pj += np.sum(select_vars)\n",
    "            select_vars = vars[select_vars]\n",
    "            means = dataset_temp[select_vars].mean() - gmean[select_vars]\n",
    "            select_cov = gcov.loc[select_vars, select_vars]\n",
    "            mj = len(dataset_temp)\n",
    "            parta = np.dot(means.T, np.linalg.solve(select_cov, np.identity(select_cov.shape[1])))\n",
    "            d2 += mj * (np.dot(parta, means))\n",
    "\n",
    "        df = pj - n_var\n",
    "\n",
    "        # perform test and save output\n",
    "        p_value = 1- st.chi2.cdf(d2, df)\n",
    "        rejected = p_value > 0.05\n",
    "\n",
    "        return \"Outcome MCAR-test: p-value = {}, therefore null hypothesis that data is MCAR is {}\"\\\n",
    "    .format(p_value, rejected)\n",
    "\n",
    "    def mcar_t_tests(self):\n",
    "        \"\"\" MCAR tests for each pair of variables\n",
    "        Parameters\n",
    "        ----------\n",
    "        data: Pandas DataFrame\n",
    "            An incomplete dataset with samples as index and variables as columns\n",
    "        Returns\n",
    "        -------\n",
    "        mcar_matrix: Pandas DataFrame\n",
    "            A square Pandas DataFrame containing True/False for each pair of variables\n",
    "            True: Missingness in index variable is MCAR for column variable\n",
    "            False: Missingness in index variable is not MCAR for column variable\n",
    "        \"\"\"\n",
    "\n",
    "        if not checks_input_mcar_tests(self.data):\n",
    "            raise Exception(\"Input not correct\")\n",
    "\n",
    "        dataset = self.data.copy()\n",
    "        vars = dataset.dtypes.index.values\n",
    "        mcar_matrix = pd.DataFrame(data=np.zeros(shape=(dataset.shape[1], dataset.shape[1])),\n",
    "                                   columns=vars, index=vars)\n",
    "\n",
    "        for var in vars:\n",
    "            for tvar in vars:\n",
    "                part_one = dataset.loc[dataset[var].isnull(), tvar].dropna()\n",
    "                part_two = dataset.loc[~dataset[var].isnull(), tvar].dropna()\n",
    "                mcar_matrix.loc[var, tvar] = st.ttest_ind(part_one, part_two, equal_var=False).pvalue\n",
    "\n",
    "        mcar_matrix = mcar_matrix[mcar_matrix.notnull()] > 0.05\n",
    "\n",
    "        return mcar_matrix"
   ]
  },
  {
   "cell_type": "code",
   "execution_count": 49,
   "metadata": {},
   "outputs": [
    {
     "data": {
      "text/plain": [
       "'Outcome MCAR-test: p-value = 0.008995931317370864, therefore null hypothesis that data is MCAR is False'"
      ]
     },
     "execution_count": 49,
     "metadata": {},
     "output_type": "execute_result"
    }
   ],
   "source": [
    "McarTests(data_slump).mcar_test()"
   ]
  },
  {
   "cell_type": "code",
   "execution_count": 50,
   "metadata": {},
   "outputs": [
    {
     "data": {
      "text/plain": [
       "'Outcome MCAR-test: p-value = 0.8486283516447674, therefore null hypothesis that data is MCAR is True'"
      ]
     },
     "execution_count": 50,
     "metadata": {},
     "output_type": "execute_result"
    }
   ],
   "source": [
    "data_slump_MAR = pd.read_table('Data/slump_test_MAR.txt', sep='\\t')\n",
    "McarTests(data_slump_MAR).mcar_test()"
   ]
  },
  {
   "cell_type": "markdown",
   "metadata": {},
   "source": [
    "Another way to check whether data is MCAR or not, can be done with `mcar_t_tests`: independent samples t-tests which test whether for a given feature, the observed values of another feature are different from the unobserved values. An important assumption of a t-test is normality, and this test is therefore only reliable for normally distributed features. Function `mcar_t_tests` returns `True` if a row feature is MCAR for the column feature.   "
   ]
  },
  {
   "cell_type": "code",
   "execution_count": 53,
   "metadata": {},
   "outputs": [
    {
     "data": {
      "text/html": [
       "<div>\n",
       "<style>\n",
       "    .dataframe thead tr:only-child th {\n",
       "        text-align: right;\n",
       "    }\n",
       "\n",
       "    .dataframe thead th {\n",
       "        text-align: left;\n",
       "    }\n",
       "\n",
       "    .dataframe tbody tr th {\n",
       "        vertical-align: top;\n",
       "    }\n",
       "</style>\n",
       "<table border=\"1\" class=\"dataframe\">\n",
       "  <thead>\n",
       "    <tr style=\"text-align: right;\">\n",
       "      <th></th>\n",
       "      <th>Cement</th>\n",
       "      <th>Slag</th>\n",
       "      <th>Fly ash</th>\n",
       "      <th>Water</th>\n",
       "      <th>SP</th>\n",
       "      <th>Coarse Aggr.</th>\n",
       "      <th>Fine Aggr.</th>\n",
       "      <th>SLUMP(cm)</th>\n",
       "    </tr>\n",
       "  </thead>\n",
       "  <tbody>\n",
       "    <tr>\n",
       "      <th>Cement</th>\n",
       "      <td>False</td>\n",
       "      <td>True</td>\n",
       "      <td>True</td>\n",
       "      <td>True</td>\n",
       "      <td>True</td>\n",
       "      <td>True</td>\n",
       "      <td>True</td>\n",
       "      <td>True</td>\n",
       "    </tr>\n",
       "    <tr>\n",
       "      <th>Slag</th>\n",
       "      <td>False</td>\n",
       "      <td>False</td>\n",
       "      <td>True</td>\n",
       "      <td>True</td>\n",
       "      <td>True</td>\n",
       "      <td>True</td>\n",
       "      <td>True</td>\n",
       "      <td>True</td>\n",
       "    </tr>\n",
       "    <tr>\n",
       "      <th>Fly ash</th>\n",
       "      <td>True</td>\n",
       "      <td>True</td>\n",
       "      <td>False</td>\n",
       "      <td>True</td>\n",
       "      <td>True</td>\n",
       "      <td>True</td>\n",
       "      <td>True</td>\n",
       "      <td>True</td>\n",
       "    </tr>\n",
       "    <tr>\n",
       "      <th>Water</th>\n",
       "      <td>True</td>\n",
       "      <td>True</td>\n",
       "      <td>True</td>\n",
       "      <td>False</td>\n",
       "      <td>True</td>\n",
       "      <td>True</td>\n",
       "      <td>True</td>\n",
       "      <td>True</td>\n",
       "    </tr>\n",
       "    <tr>\n",
       "      <th>SP</th>\n",
       "      <td>True</td>\n",
       "      <td>True</td>\n",
       "      <td>True</td>\n",
       "      <td>True</td>\n",
       "      <td>False</td>\n",
       "      <td>True</td>\n",
       "      <td>True</td>\n",
       "      <td>True</td>\n",
       "    </tr>\n",
       "    <tr>\n",
       "      <th>Coarse Aggr.</th>\n",
       "      <td>True</td>\n",
       "      <td>True</td>\n",
       "      <td>True</td>\n",
       "      <td>True</td>\n",
       "      <td>True</td>\n",
       "      <td>False</td>\n",
       "      <td>True</td>\n",
       "      <td>True</td>\n",
       "    </tr>\n",
       "    <tr>\n",
       "      <th>Fine Aggr.</th>\n",
       "      <td>True</td>\n",
       "      <td>True</td>\n",
       "      <td>True</td>\n",
       "      <td>True</td>\n",
       "      <td>True</td>\n",
       "      <td>True</td>\n",
       "      <td>False</td>\n",
       "      <td>True</td>\n",
       "    </tr>\n",
       "    <tr>\n",
       "      <th>SLUMP(cm)</th>\n",
       "      <td>False</td>\n",
       "      <td>False</td>\n",
       "      <td>False</td>\n",
       "      <td>False</td>\n",
       "      <td>False</td>\n",
       "      <td>False</td>\n",
       "      <td>False</td>\n",
       "      <td>False</td>\n",
       "    </tr>\n",
       "  </tbody>\n",
       "</table>\n",
       "</div>"
      ],
      "text/plain": [
       "              Cement   Slag  Fly ash  Water     SP  Coarse Aggr.  Fine Aggr.  \\\n",
       "Cement         False   True     True   True   True          True        True   \n",
       "Slag           False  False     True   True   True          True        True   \n",
       "Fly ash         True   True    False   True   True          True        True   \n",
       "Water           True   True     True  False   True          True        True   \n",
       "SP              True   True     True   True  False          True        True   \n",
       "Coarse Aggr.    True   True     True   True   True         False        True   \n",
       "Fine Aggr.      True   True     True   True   True          True       False   \n",
       "SLUMP(cm)      False  False    False  False  False         False       False   \n",
       "\n",
       "              SLUMP(cm)  \n",
       "Cement             True  \n",
       "Slag               True  \n",
       "Fly ash            True  \n",
       "Water              True  \n",
       "SP                 True  \n",
       "Coarse Aggr.       True  \n",
       "Fine Aggr.         True  \n",
       "SLUMP(cm)         False  "
      ]
     },
     "execution_count": 53,
     "metadata": {},
     "output_type": "execute_result"
    }
   ],
   "source": [
    "McarTests(data_slump).mcar_t_tests()"
   ]
  },
  {
   "cell_type": "markdown",
   "metadata": {},
   "source": [
    "## Missing data methods\n",
    "\n",
    "Because of the large collection of possible methods for dealing with missing data, it can be hard to choose a method for your situation. It is easy to implement a method such as `dropna()` or use the `mean` or `median` imputation functions from `.Imputer` from Scikit-learn. But which of those methods is best? \n",
    "\n",
    "In our simulation, we implemented the following imputation methods: \n",
    "\n",
    "- Mean imputation: imputation with the column (feature) mean\n",
    "- Median imputation: imputation with the column (feature) median\n",
    "- Random imputation: we randomly choose an unobserved value from the column (feature)\n",
    "- Regression imputation: each column (feature) is regressed on the other features. Each incomplete value is predicted with the observed values of the other features. When a predictive value is unobserved as well, we first impute this value with the column (feature) mean\n",
    "- Stochastic regression imputation: to account for the uncertainty of the regression model, we add (or subtract) a random amount from the prediction as obtained with regression imputation"
   ]
  },
  {
   "cell_type": "markdown",
   "metadata": {},
   "source": [
    "## Simulation setup\n",
    "\n",
    "We performed an extensive simulation study to test the effect of the missing data methods on the outcome of a regression model. Our setup is as follows:\n",
    "\n",
    "- We obtained two complete, real datasets and created 6 simulated datasets.\n",
    "- For each dataset, we generate several percentages of missing values according to the three missingness mechanisms. For this, we created function `delete_data` (in file simulation.ipynb). We assign missing values to all X features, but not to the output variable Y. For MAR missingness, we base the missingess in the X features on the output variable Y.\n",
    "- In each simulation, the incomplete dataset is split into 60% trainingset and 40% testset. We apply six kinds of missing values treatment: `dropna()`, `mean` and `median` imputation with `.Imputer`, and `random`, `regression` and `stochastic` regression imputation with three custom functions (avaialable in file simulation.ipynb). As our analysis model, we use a simple regression model `LinearRegression()` from `sklearn.linear_model` and evaluate with `sklearn.metrics`: `mean_squared_error` and `explained_variance`. \n",
    "- We repeat the second and third step 500 times for the real datasets and 50 times for the six custom datasets. We report the average and IQR of the evaluation metrics. All simulation code can be found in file simulation.ipynb."
   ]
  },
  {
   "cell_type": "markdown",
   "metadata": {},
   "source": [
    "## Simulation results\n",
    "\n",
    "Check the outcome in our interactive plot. Select the dataset, missingness mechanism, evaluation metric, missing data method, whether you want to see the inter quartile range (IQR) and whether you want the percentage of missing rows or the percentage of missing cells."
   ]
  },
  {
   "cell_type": "markdown",
   "metadata": {},
   "source": [
    "### Concrete slump test\n",
    "\n",
    "A linear regression model with the original, complete dataset gives the following evaluation error metrics:\n",
    "\n",
    "- MAE: 6.5\n",
    "- MSE: 62.5\n",
    "- R2: 0.09"
   ]
  },
  {
   "cell_type": "markdown",
   "metadata": {},
   "source": [
    "Compared with the complete dataset, the average evaluation error metrics after dealing with the missing values are a bit lower for MSE (around 50), comparable for MAE (around 7) and quite higher for R2 (around 0.3). \n",
    "\n",
    "For the concrete slump test dataset, a MCAR mechanism would give the lowest MSE, RMSE and MAE value when the `drop.na()` method is used. This performance most probably occurs because of the huge decreases in data records. `random` imputation seems to be the worst method, resulting in explained variance values under 30%.\n",
    "\n",
    "To distinguish between the four imputation models, we have to zoom the figure. It turns out that for higher missingness percentages, `mean` imputation returns lower MSE values than `median` values. `regression` gives higher values, and `stochastic` regression imputation even higher. Note that the differences between the methods are small, and even though we performed 500 simulations, the IQR of our simulation overlap for all missingness percentages. \n",
    "\n",
    "Interestingly, if the missingness mechanism is MAR, `drop.na()` gives MSE and RMSE values comparable with most of the imputation methods. Yet, the explained variance is still the largest of the six missing data methods. For MAR mechanisms, `regression` and `stochastic` imputation become more distinct from `mean` and `median` imputation. This effect is most clear for higher missingness percentages. Apparently, in the MAR situation, the missingness brings such an amount of bias in the prediction of outcome variable 'SLUMP', that it is wiser to use `mean` and `median` imputation. \n",
    "\n",
    "With MNAR missingness, the situation becomes comparable with the MCAR missingness. Because in both MCAR and MNAR, the missingness does not depend on the outcome variable 'SLUMP', the performance of the analysis model is not much influenced by the different types of missingness. "
   ]
  },
  {
   "cell_type": "code",
   "execution_count": null,
   "metadata": {
    "collapsed": true
   },
   "outputs": [],
   "source": [
    "# 2 example figures van de plot hier"
   ]
  },
  {
   "cell_type": "markdown",
   "metadata": {},
   "source": [
    "### Forest fires\n",
    "\n",
    "The forest fires data is obtained from https://archive.ics.uci.edu/ml/machine-learning-databases/forest-fires/. A linear regression model with the complete dataset gives the following evaluation error metrics:\n",
    "\n",
    "- MAE: 21.5\n",
    "- MSE: 4160.6\n",
    "- R2: -1.88"
   ]
  },
  {
   "cell_type": "markdown",
   "metadata": {},
   "source": [
    "The MSE outcome of the `drop.na()` method turns out to be quite unstable. The same applies to the other metrics. In addition, `drop.na()` gives extremer values than the other missing data methods. Therefore, it is more useful to unclick the `drop.na()` method and focus on the other methodologies.\n",
    "\n",
    "It becomes immediately clear that in contrast with the 'Concrete Slump Test' dataset, `regression` imputation now gives results comparable with `mean` and `median` imputation instead of `stochastic` imputation. It is most likely that this has to do with the correlation structure in the data. If the features of a dataset poorly correlate, a mean or median estimate is comparable with a regression estimate. With increasing correlations, independent features have more power in predicting a missing value. Another result of the poor correlation structure in the 'Forest Fires' dataset is the uncertainty of the regression estimates of the imputation regression model. As a result, the amount of noise added to the `stochastic` regression imputed values is quite large and therefore, the results from `stochastic` imputation come close to the results of `random` imputation. \n",
    "\n",
    "There seem to be few differences between the three missingness mechanisms. The only distinction between the three mechanisms is that with MAR missingness, the differences between the missing data methods are larger with factor 2. In other words, although the order of the missing data methods is similar for MCAR, MAR and MNAR data, any difference between two missing data methods is twice as large for MAR missingness than for MCAR or MNAR data.  \n",
    "\n",
    "Note as well that the performance of the Forest Fires model is quite bad. On average we wrongly predict the area of a forest fire with 21.5 hectare. In addition, only 2 to 4 percent of the variance in 'area' is explained by the model. "
   ]
  },
  {
   "cell_type": "code",
   "execution_count": null,
   "metadata": {
    "collapsed": true
   },
   "outputs": [],
   "source": [
    "## two plots here."
   ]
  },
  {
   "cell_type": "markdown",
   "metadata": {},
   "source": [
    "### Simulated datasets\n",
    "\n",
    "Our simulation code is available in file generate_data.ipynb. In short, we generated 6 datasets with each 10.000 records with 25 normally distributed features and 20 features with a uniform distribution. We added correlation between the features, such that 3 of the 6 datasets have a poor correlation structure and the other three a rich correlation structure. A continuous output variable is sampled by making a linear equation with the features, with a random weights vector, and the addition of some noise. We generated the output variable with three levels of noise: small, medium and large. "
   ]
  },
  {
   "cell_type": "code",
   "execution_count": 25,
   "metadata": {},
   "outputs": [
    {
     "data": {
      "text/plain": [
       "(array([   44.,    38.,    74.,   140.,  1020.,   584.,   146.,    66.,\n",
       "           18.,    79.]),\n",
       " array([-0.98828885, -0.78945996, -0.59063108, -0.39180219, -0.19297331,\n",
       "         0.00585558,  0.20468446,  0.40351335,  0.60234223,  0.80117112,  1.        ]),\n",
       " <a list of 10 Patch objects>)"
      ]
     },
     "execution_count": 25,
     "metadata": {},
     "output_type": "execute_result"
    },
    {
     "data": {
      "image/png": "[encoded data removed]",
      "text/plain": [
       "<matplotlib.figure.Figure at 0x2288f05b198>"
      ]
     },
     "metadata": {},
     "output_type": "display_data"
    }
   ],
   "source": [
    "import matplotlib.pyplot as plt\n",
    "%matplotlib inline\n",
    "df_poor = pd.read_table('Data/custom_dataset_poor_small.txt', sep='\\t')\n",
    "plt.hist(df_poor.corr().values.ravel())"
   ]
  },
  {
   "cell_type": "code",
   "execution_count": 26,
   "metadata": {},
   "outputs": [
    {
     "data": {
      "text/plain": [
       "(array([ 592.,  200.,   60.,   50.,  104.,   72.,   78.,   98.,  194.,  761.]),\n",
       " array([ -9.99997413e-01,  -7.99997671e-01,  -5.99997930e-01,\n",
       "         -3.99998189e-01,  -1.99998448e-01,   1.29361235e-06,\n",
       "          2.00001035e-01,   4.00000776e-01,   6.00000517e-01,\n",
       "          8.00000259e-01,   1.00000000e+00]),\n",
       " <a list of 10 Patch objects>)"
      ]
     },
     "execution_count": 26,
     "metadata": {},
     "output_type": "execute_result"
    },
    {
     "data": {
      "image/png": "[encoded data removed]",
      "text/plain": [
       "<matplotlib.figure.Figure at 0x2288f055748>"
      ]
     },
     "metadata": {},
     "output_type": "display_data"
    }
   ],
   "source": [
    "df_rich = pd.read_table('Data/custom_dataset_rich_small.txt', sep = '\\t')\n",
    "plt.hist(df_rich.corr().values.ravel())"
   ]
  },
  {
   "cell_type": "markdown",
   "metadata": {},
   "source": [
    "If we check the output of the complete datasets, it becomes clear that the simulated datasets are quite perfect datasets. All six datasets have an explained variance perfecentage of 99.99%. The MSE is 0.01 for the datasets with a small amount of noise, 1.0 for the medium datasets and 25 for the data with large amount of noise. The MAE increases from 0.08 to 0.8 to 4.0. "
   ]
  },
  {
   "cell_type": "code",
   "execution_count": null,
   "metadata": {
    "collapsed": true
   },
   "outputs": [],
   "source": [
    "# table with output?"
   ]
  },
  {
   "cell_type": "markdown",
   "metadata": {},
   "source": [
    "The perfect characteristics of these datasets make that the results of certain missing data methods overlap perfect as well (apart from some simulation error). `mean` and `median` imputation give the same results, and `regression` and `stochastic` imputation as well. In addition, the data is that perfect that the loss of records with the `drop.na()` method does not influence the evaluation error metrics. This is the case for all three missingness mechanisms. \n",
    "\n",
    "What we can understand from the simulated datasets, is that the performance of `regression` imputation is clearly affected by the correlation structure of the data. Earlier, we saw that `regression` imputation performs comparable with `mean` and `median` imputation when the correlation structure is poor. For the simulated datasets with the poor correlation structure, `regression` imputation gives even lower MSE, RMSE and MAE values than `mean` and `median` imputation. It seems that `regression` imputation is a useful method when the correlation structure of the data is poor. "
   ]
  },
  {
   "cell_type": "code",
   "execution_count": null,
   "metadata": {
    "collapsed": true
   },
   "outputs": [],
   "source": [
    "# shot van interactive plot"
   ]
  },
  {
   "cell_type": "markdown",
   "metadata": {},
   "source": [
    "## Conclusion\n",
    "\n",
    "The effect of missing values treatment on the outcome of a data science regression model depends on the characteristics of the data. Yet, we can make some general conclusions. \n",
    "\n",
    "1. The performance of `Regression` imputation is sensitive for the correlation structure in the data\n",
    "2. The percentage of missingness is not "
   ]
  },
  {
   "cell_type": "markdown",
   "metadata": {},
   "source": [
    "### de missing data is hetzelfde in de trainingset en testset. de drop methode heeft daarom geen invloed op het verschil in de regressielijn. die wordt in de trainingset net zo getrokken als in de testset. de drop methode geeft daarom een goede predictie mse terug, namelijk dichtbij nul. blijkbaar is het zeer goed te doen om in deze data een regressiepredictie van y te maken op basis van de 50 x-en. dat is op zich ook wel logisch want y is gebaseerd op x. hoe is dat als er meer ruis toegevoegd wordt? "
   ]
  },
  {
   "cell_type": "markdown",
   "metadata": {},
   "source": [
    "## Contact information\n",
    "\n",
    "Rianne Schouten, Missing Data Specialist, rianne.schouten@dpa.nl\n",
    "\n",
    "Coen Seinen, Data Scientist, coen.seinen@bigdatarepublic.nl"
   ]
  },
  {
   "cell_type": "code",
   "execution_count": null,
   "metadata": {
    "collapsed": true
   },
   "outputs": [],
   "source": []
  }
 ],
 "metadata": {
  "kernelspec": {
   "display_name": "Python 3",
   "language": "python",
   "name": "python3"
  },
  "language_info": {
   "codemirror_mode": {
    "name": "ipython",
    "version": 3
   },
   "file_extension": ".py",
   "mimetype": "text/x-python",
   "name": "python",
   "nbconvert_exporter": "python",
   "pygments_lexer": "ipython3",
   "version": "3.6.2"
  }
 },
 "nbformat": 4,
 "nbformat_minor": 2
}
