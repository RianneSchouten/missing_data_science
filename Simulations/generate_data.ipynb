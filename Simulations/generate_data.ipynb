{
 "cells": [
  {
   "cell_type": "markdown",
   "metadata": {},
   "source": [
    "## Generate data\n",
    "\n",
    "In this document, we generate a complete dataset by first, generating X features and then, creating an output feature based on a certain relation with the X features and the addition of random noise. "
   ]
  },
  {
   "cell_type": "code",
   "execution_count": 1,
   "metadata": {
    "collapsed": true
   },
   "outputs": [],
   "source": [
    "import pandas as pd\n",
    "import numpy as np\n",
    "import matplotlib.pyplot as plt\n",
    "import datetime\n",
    "%matplotlib inline\n",
    "\n",
    "pd.set_option(\"max_rows\",250)\n",
    "pd.set_option(\"max_columns\",999)\n",
    "\n",
    "import warnings\n",
    "warnings.filterwarnings('ignore')\n",
    "from numpy.random import rand,randint,randn, binomial,logistic, lognormal,weibull,\\\n",
    "gumbel,standard_exponential,standard_gamma"
   ]
  },
  {
   "cell_type": "markdown",
   "metadata": {},
   "source": [
    "### Introduce function to quickly generate random data"
   ]
  },
  {
   "cell_type": "code",
   "execution_count": 2,
   "metadata": {
    "collapsed": true
   },
   "outputs": [],
   "source": [
    "#Specify all posible distributions to sample from\n",
    "distriution_dict = {'uniform':rand,\n",
    "                    'normal':randn}           \n",
    "\n",
    "def return_feature(method,observations):\n",
    "    return pd.Series(distriution_dict[method](observations))\n",
    "    \n",
    "#Make a function to quickly generate a pandas dataframe\n",
    "def create_random_dataset(observations,features,dist_dict=distriution_dict):\n",
    "    all_columns = np.random.choice(list(dist_dict.keys()),features)\n",
    "    full_df = pd.DataFrame()\n",
    "    for i in range(features):\n",
    "        full_df[i]=return_feature(all_columns[i],observations)\n",
    "    return full_df, all_columns"
   ]
  },
  {
   "cell_type": "code",
   "execution_count": 14,
   "metadata": {},
   "outputs": [
    {
     "name": "stdout",
     "output_type": "stream",
     "text": [
      "Wall time: 28 ms\n"
     ]
    }
   ],
   "source": [
    "%%time\n",
    "df,cols = create_random_dataset(10000,45)"
   ]
  },
  {
   "cell_type": "markdown",
   "metadata": {},
   "source": [
    "### Function to quickly get subset of columns with specific distribution"
   ]
  },
  {
   "cell_type": "code",
   "execution_count": 4,
   "metadata": {
    "collapsed": true
   },
   "outputs": [],
   "source": [
    "def select_subset(full_df,all_columns,method):\n",
    "    return full_df[np.arange(len(all_columns))[all_columns==method]]"
   ]
  },
  {
   "cell_type": "code",
   "execution_count": 15,
   "metadata": {},
   "outputs": [
    {
     "name": "stdout",
     "output_type": "stream",
     "text": [
      "normal : 30\n",
      "uniform : 15\n",
      "45\n"
     ]
    }
   ],
   "source": [
    "#Check amount of differenct distributions sampled, i.e. all features per catergory\n",
    "tot = 0\n",
    "for i in np.unique(cols):\n",
    "    res = len(select_subset(df,cols,i).columns)\n",
    "    tot += res\n",
    "    print(i,':',res)\n",
    "print(tot)"
   ]
  },
  {
   "cell_type": "markdown",
   "metadata": {},
   "source": [
    "### Function to add correlation to the data"
   ]
  },
  {
   "cell_type": "code",
   "execution_count": 16,
   "metadata": {
    "collapsed": true
   },
   "outputs": [],
   "source": [
    "def add_random_correlation(df_,iterator=100):\n",
    "    df = df_.copy()\n",
    "    for i in range(iterator):\n",
    "        factor = np.random.uniform(low=0.1, high=2.5, size=1)[0]\n",
    "        a,b = np.random.choice(df.columns.tolist(),2,replace=False)\n",
    "        df[a] = df[a] + np.random.choice([-1,1],1)*factor*df[b]\n",
    "    return df"
   ]
  },
  {
   "cell_type": "code",
   "execution_count": 17,
   "metadata": {},
   "outputs": [
    {
     "name": "stdout",
     "output_type": "stream",
     "text": [
      "Wall time: 56.1 ms\n"
     ]
    }
   ],
   "source": [
    "%%time\n",
    "df_poor = add_random_correlation(df,iterator=100)"
   ]
  },
  {
   "cell_type": "code",
   "execution_count": 18,
   "metadata": {},
   "outputs": [
    {
     "data": {
      "text/plain": [
       "(array([   16.,    18.,    48.,    90.,  1186.,   452.,    96.,    28.,\n",
       "           30.,    61.]),\n",
       " array([-0.98213356, -0.7839202 , -0.58570685, -0.38749349, -0.18928014,\n",
       "         0.00893322,  0.20714658,  0.40535993,  0.60357329,  0.80178664,  1.        ]),\n",
       " <a list of 10 Patch objects>)"
      ]
     },
     "execution_count": 18,
     "metadata": {},
     "output_type": "execute_result"
    },
    {
     "data": {
      "image/png": "[encoded data removed]",
      "text/plain": [
       "<matplotlib.figure.Figure at 0x1e1c24e5400>"
      ]
     },
     "metadata": {},
     "output_type": "display_data"
    }
   ],
   "source": [
    "#Check Correlation across Data Set\n",
    "plt.hist(df_poor.corr().values.ravel())"
   ]
  },
  {
   "cell_type": "markdown",
   "metadata": {},
   "source": [
    "With 500 iterations, features are correlated with each other over and over again. Features will therefore have more extreme correlation than with 100 iterations. We will save both type of datasets."
   ]
  },
  {
   "cell_type": "code",
   "execution_count": 19,
   "metadata": {},
   "outputs": [
    {
     "name": "stdout",
     "output_type": "stream",
     "text": [
      "Wall time: 300 ms\n"
     ]
    },
    {
     "data": {
      "image/png": "[encoded data removed]",
      "text/plain": [
       "<matplotlib.figure.Figure at 0x1e1c17b12b0>"
      ]
     },
     "metadata": {},
     "output_type": "display_data"
    }
   ],
   "source": [
    "%%time\n",
    "df_rich = add_random_correlation(df,iterator=500)\n",
    "plt.hist(df_rich.corr().values.ravel())"
   ]
  },
  {
   "cell_type": "markdown",
   "metadata": {},
   "source": [
    "### Create dependent variable"
   ]
  },
  {
   "cell_type": "code",
   "execution_count": 20,
   "metadata": {
    "collapsed": true
   },
   "outputs": [],
   "source": [
    "#Random linear function with noise\n",
    "def create_random_linear_y(df_,noise_factor=1):\n",
    "    df = df_.copy()\n",
    "    length_ = len(df_.columns.tolist())\n",
    "    random_weights = np.random.randn(length_) \n",
    "    print(random_weights.mean())\n",
    "    df['y'] = np.dot(df.as_matrix(),random_weights.reshape(-1,1)) \n",
    "    df['y'] = df['y'] + noise_factor*np.random.randn(len(df))\n",
    "    return df"
   ]
  },
  {
   "cell_type": "markdown",
   "metadata": {},
   "source": [
    "The correlation between y and each individual x feature depends on the overall correlation between the features. By adding more or less noise to the y variable, we can influence how easy it is to predict y from a combination of those x features. We will save three levels of difficulties (normally distributed noise with a standard deviation of 0.1, 1 and 5) for each type of data correlation (poor and rich). "
   ]
  },
  {
   "cell_type": "code",
   "execution_count": 27,
   "metadata": {
    "scrolled": true
   },
   "outputs": [
    {
     "name": "stdout",
     "output_type": "stream",
     "text": [
      "-0.00385226615403\n",
      "0.0366275187561\n"
     ]
    }
   ],
   "source": [
    "df_poor_little = create_random_linear_y(df_poor, noise_factor = 0.1)\n",
    "df_poor_much = create_random_linear_y(df_poor, noise_factor = 5)"
   ]
  },
  {
   "cell_type": "code",
   "execution_count": 29,
   "metadata": {},
   "outputs": [
    {
     "name": "stdout",
     "output_type": "stream",
     "text": [
      "0.0429232441837\n",
      "0.0232997578005\n"
     ]
    }
   ],
   "source": [
    "df_rich_little = create_random_linear_y(df_rich, noise_factor = 0.1)\n",
    "df_rich_much = create_random_linear_y(df_rich, noise_factor = 5)"
   ]
  },
  {
   "cell_type": "code",
   "execution_count": 31,
   "metadata": {
    "collapsed": true
   },
   "outputs": [],
   "source": [
    "df_poor_little.to_csv('Data/custom_dataset_poor_little.txt',sep='\\t')\n",
    "df_poor_much.to_csv('Data/custom_dataset_poor_much.txt',sep='\\t')\n",
    "df_rich_little.to_csv('Data/custom_dataset_rich_little.txt',sep='\\t')\n",
    "df_rich_much.to_csv('Data/custom_dataset_rich_much.txt',sep='\\t')"
   ]
  }
 ],
 "metadata": {
  "kernelspec": {
   "display_name": "Python 3",
   "language": "python",
   "name": "python3"
  },
  "language_info": {
   "codemirror_mode": {
    "name": "ipython",
    "version": 3
   },
   "file_extension": ".py",
   "mimetype": "text/x-python",
   "name": "python",
   "nbconvert_exporter": "python",
   "pygments_lexer": "ipython3",
   "version": "3.6.2"
  }
 },
 "nbformat": 4,
 "nbformat_minor": 2
}
