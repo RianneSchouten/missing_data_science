{
 "cells": [
  {
   "cell_type": "markdown",
   "metadata": {},
   "source": [
    "## Evaluate complete data\n",
    "\n",
    "In this file, we calculate the evaluation error metrics for the complete datasets. "
   ]
  },
  {
   "cell_type": "code",
   "execution_count": 2,
   "metadata": {},
   "outputs": [],
   "source": [
    "import pandas as pd\n",
    "from sklearn.model_selection import KFold\n",
    "from sklearn.preprocessing import StandardScaler\n",
    "from sklearn.linear_model import LinearRegression\n",
    "from sklearn.model_selection import train_test_split\n",
    "from sklearn.metrics import mean_absolute_error as mae\n",
    "from sklearn.metrics import mean_squared_error as mse\n",
    "from sklearn.metrics import explained_variance_score as ev\n",
    "from math import sqrt"
   ]
  },
  {
   "cell_type": "code",
   "execution_count": 4,
   "metadata": {
    "collapsed": true
   },
   "outputs": [],
   "source": [
    "k_fold = KFold(n_splits=5, random_state=None)\n",
    "lin = LinearRegression()\n",
    "def perform_crossvalidation(df, output_variable):\n",
    "    results_mse = []\n",
    "    results_rmse = []\n",
    "    results_ev = []\n",
    "    results_mae = []\n",
    "    for train_indices, cv_indices in k_fold.split(df):\n",
    "        \n",
    "        X_train = df.drop(output_variable, 1).iloc[train_indices]\n",
    "        y_train = df[output_variable].iloc[train_indices]\n",
    "        X_val = df.drop(output_variable, 1).iloc[cv_indices]\n",
    "        y_val = df[output_variable].iloc[cv_indices]\n",
    "        \n",
    "        scaler = StandardScaler()\n",
    "        scaler.fit(X_train)\n",
    "        X_train = pd.DataFrame(data=scaler.transform(X_train), columns=X_train.columns) \n",
    "        X_val = pd.DataFrame(data=scaler.transform(X_val), columns=X_val.columns)\n",
    "        \n",
    "        lin.fit(X_train, y_train)\n",
    "        pred = lin.predict(X_val)\n",
    "        results_mse.append(mse(y_val,pred))\n",
    "        results_rmse.append(sqrt(mse(y_val,pred)))\n",
    "        results_ev.append(ev(y_val,pred))\n",
    "        results_mae.append(mae(y_val,pred))\n",
    "    \n",
    "    print('mse: {}, rmse: {}, ev: {}, mae: {}'.format(sum(results_mse) / len(results_mse),\n",
    "                                                      sum(results_rmse) / len(results_rmse),\n",
    "                                                      sum(results_ev) / len(results_ev),\n",
    "                                                      sum(results_mae) / len(results_mae)))"
   ]
  },
  {
   "cell_type": "code",
   "execution_count": 9,
   "metadata": {},
   "outputs": [
    {
     "name": "stdout",
     "output_type": "stream",
     "text": [
      "mse: 4160.6025751093675, r2: -1.8710414674700513, mae: 21.477225077422165\n"
     ]
    }
   ],
   "source": [
    "df_ff = pd.read_csv('Data/forest_fires.txt',sep='\\t')\n",
    "perform_crossvalidation(df_ff, 'area')"
   ]
  },
  {
   "cell_type": "code",
   "execution_count": 5,
   "metadata": {},
   "outputs": [
    {
     "ename": "NameError",
     "evalue": "name 'StandardScaler' is not defined",
     "output_type": "error",
     "traceback": [
      "\u001b[1;31m---------------------------------------------------------------------------\u001b[0m",
      "\u001b[1;31mNameError\u001b[0m                                 Traceback (most recent call last)",
      "\u001b[1;32m<ipython-input-5-cceaaef64d7c>\u001b[0m in \u001b[0;36m<module>\u001b[1;34m()\u001b[0m\n\u001b[0;32m      1\u001b[0m \u001b[0mdf_st\u001b[0m \u001b[1;33m=\u001b[0m \u001b[0mpd\u001b[0m\u001b[1;33m.\u001b[0m\u001b[0mread_csv\u001b[0m\u001b[1;33m(\u001b[0m\u001b[1;34m'Data/slump_test.txt'\u001b[0m\u001b[1;33m,\u001b[0m\u001b[0msep\u001b[0m\u001b[1;33m=\u001b[0m\u001b[1;34m'\\t'\u001b[0m\u001b[1;33m)\u001b[0m\u001b[1;33m\u001b[0m\u001b[0m\n\u001b[1;32m----> 2\u001b[1;33m \u001b[0mperform_crossvalidation\u001b[0m\u001b[1;33m(\u001b[0m\u001b[0mdf_st\u001b[0m\u001b[1;33m,\u001b[0m \u001b[1;34m'SLUMP(cm)'\u001b[0m\u001b[1;33m)\u001b[0m\u001b[1;33m\u001b[0m\u001b[0m\n\u001b[0m",
      "\u001b[1;32m<ipython-input-4-2549e980b44c>\u001b[0m in \u001b[0;36mperform_crossvalidation\u001b[1;34m(df, output_variable)\u001b[0m\n\u001b[0;32m     13\u001b[0m         \u001b[0my_val\u001b[0m \u001b[1;33m=\u001b[0m \u001b[0mdf\u001b[0m\u001b[1;33m[\u001b[0m\u001b[0moutput_variable\u001b[0m\u001b[1;33m]\u001b[0m\u001b[1;33m.\u001b[0m\u001b[0miloc\u001b[0m\u001b[1;33m[\u001b[0m\u001b[0mcv_indices\u001b[0m\u001b[1;33m]\u001b[0m\u001b[1;33m\u001b[0m\u001b[0m\n\u001b[0;32m     14\u001b[0m \u001b[1;33m\u001b[0m\u001b[0m\n\u001b[1;32m---> 15\u001b[1;33m         \u001b[0mscaler\u001b[0m \u001b[1;33m=\u001b[0m \u001b[0mStandardScaler\u001b[0m\u001b[1;33m(\u001b[0m\u001b[1;33m)\u001b[0m\u001b[1;33m\u001b[0m\u001b[0m\n\u001b[0m\u001b[0;32m     16\u001b[0m         \u001b[0mscaler\u001b[0m\u001b[1;33m.\u001b[0m\u001b[0mfit\u001b[0m\u001b[1;33m(\u001b[0m\u001b[0mX_train\u001b[0m\u001b[1;33m)\u001b[0m\u001b[1;33m\u001b[0m\u001b[0m\n\u001b[0;32m     17\u001b[0m         \u001b[0mX_train\u001b[0m \u001b[1;33m=\u001b[0m \u001b[0mpd\u001b[0m\u001b[1;33m.\u001b[0m\u001b[0mDataFrame\u001b[0m\u001b[1;33m(\u001b[0m\u001b[0mdata\u001b[0m\u001b[1;33m=\u001b[0m\u001b[0mscaler\u001b[0m\u001b[1;33m.\u001b[0m\u001b[0mtransform\u001b[0m\u001b[1;33m(\u001b[0m\u001b[0mX_train\u001b[0m\u001b[1;33m)\u001b[0m\u001b[1;33m,\u001b[0m \u001b[0mcolumns\u001b[0m\u001b[1;33m=\u001b[0m\u001b[0mX_train\u001b[0m\u001b[1;33m.\u001b[0m\u001b[0mcolumns\u001b[0m\u001b[1;33m)\u001b[0m\u001b[1;33m\u001b[0m\u001b[0m\n",
      "\u001b[1;31mNameError\u001b[0m: name 'StandardScaler' is not defined"
     ]
    }
   ],
   "source": [
    "df_st = pd.read_csv('Data/slump_test.txt',sep='\\t')\n",
    "perform_crossvalidation(df_st, 'SLUMP(cm)')"
   ]
  },
  {
   "cell_type": "code",
   "execution_count": 13,
   "metadata": {},
   "outputs": [
    {
     "name": "stdout",
     "output_type": "stream",
     "text": [
      "mse: 0.009882298302416548, r2: 0.9999999999984173, mae: 0.0792094551988691\n"
     ]
    }
   ],
   "source": [
    "df = pd.read_csv('Data/custom_dataset_poor_small.txt',sep='\\t')\n",
    "perform_crossvalidation(df, 'y')"
   ]
  },
  {
   "cell_type": "code",
   "execution_count": 14,
   "metadata": {},
   "outputs": [
    {
     "name": "stdout",
     "output_type": "stream",
     "text": [
      "mse: 0.9810124061413189, r2: 0.9999999997392284, mae: 0.7901179139608527\n"
     ]
    }
   ],
   "source": [
    "df = pd.read_csv('Data/custom_dataset_poor_medium.txt',sep='\\t')\n",
    "perform_crossvalidation(df, 'y')"
   ]
  },
  {
   "cell_type": "code",
   "execution_count": 15,
   "metadata": {},
   "outputs": [
    {
     "name": "stdout",
     "output_type": "stream",
     "text": [
      "mse: 25.212702413687953, r2: 0.9999996851502756, mae: 3.9943339122478236\n"
     ]
    }
   ],
   "source": [
    "df = pd.read_csv('Data/custom_dataset_poor_large.txt',sep='\\t')\n",
    "perform_crossvalidation(df, 'y')"
   ]
  },
  {
   "cell_type": "code",
   "execution_count": 16,
   "metadata": {},
   "outputs": [
    {
     "name": "stdout",
     "output_type": "stream",
     "text": [
      "mse: 0.01015222533775766, r2: 0.999999999998451, mae: 0.0802525668823947\n"
     ]
    }
   ],
   "source": [
    "df = pd.read_csv('Data/custom_dataset_rich_small.txt',sep='\\t')\n",
    "perform_crossvalidation(df, 'y')"
   ]
  },
  {
   "cell_type": "code",
   "execution_count": 17,
   "metadata": {},
   "outputs": [
    {
     "name": "stdout",
     "output_type": "stream",
     "text": [
      "mse: 1.0000864263167935, r2: 0.999999999399113, mae: 0.7955176684396112\n"
     ]
    }
   ],
   "source": [
    "df = pd.read_csv('Data/custom_dataset_rich_medium.txt',sep='\\t')\n",
    "perform_crossvalidation(df, 'y')"
   ]
  },
  {
   "cell_type": "code",
   "execution_count": 18,
   "metadata": {},
   "outputs": [
    {
     "name": "stdout",
     "output_type": "stream",
     "text": [
      "mse: 25.549638196673108, r2: 0.9999999754920941, mae: 4.049909569642503\n"
     ]
    }
   ],
   "source": [
    "df = pd.read_csv('Data/custom_dataset_rich_large.txt',sep='\\t')\n",
    "perform_crossvalidation(df, 'y')"
   ]
  }
 ],
 "metadata": {
  "kernelspec": {
   "display_name": "Python 3",
   "language": "python",
   "name": "python3"
  },
  "language_info": {
   "codemirror_mode": {
    "name": "ipython",
    "version": 3
   },
   "file_extension": ".py",
   "mimetype": "text/x-python",
   "name": "python",
   "nbconvert_exporter": "python",
   "pygments_lexer": "ipython3",
   "version": "3.6.2"
  }
 },
 "nbformat": 4,
 "nbformat_minor": 2
}
