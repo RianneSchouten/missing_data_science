{
 "cells": [
  {
   "cell_type": "markdown",
   "metadata": {},
   "source": [
    "## Generate data\n",
    "\n",
    "In this document, we generate a complete dataset by first, generating X features and then, creating an output feature based on a certain relation with the X features and the addition of random noise. "
   ]
  },
  {
   "cell_type": "code",
   "execution_count": 2,
   "metadata": {
    "collapsed": true
   },
   "outputs": [],
   "source": [
    "import pandas as pd\n",
    "import numpy as np\n",
    "import matplotlib.pyplot as plt\n",
    "import datetime\n",
    "%matplotlib inline\n",
    "\n",
    "pd.set_option(\"max_rows\",250)\n",
    "pd.set_option(\"max_columns\",999)\n",
    "\n",
    "import warnings\n",
    "warnings.filterwarnings('ignore')\n",
    "from numpy.random import rand,randint,randn, binomial,logistic, lognormal,weibull,\\\n",
    "gumbel,standard_exponential,standard_gamma"
   ]
  },
  {
   "cell_type": "markdown",
   "metadata": {},
   "source": [
    "### Introduce function to quickly generate random data"
   ]
  },
  {
   "cell_type": "code",
   "execution_count": 3,
   "metadata": {
    "collapsed": true
   },
   "outputs": [],
   "source": [
    "#Specify all posible distributions to sample from\n",
    "distriution_dict = {'uniform':rand,\n",
    "                    'normal':randn}           \n",
    "\n",
    "def return_feature(method,observations):\n",
    "    return pd.Series(distriution_dict[method](observations))\n",
    "    \n",
    "#Make a function to quickly generate a pandas dataframe\n",
    "def create_random_dataset(observations,features,dist_dict=distriution_dict):\n",
    "    all_columns = np.random.choice(list(dist_dict.keys()),features)\n",
    "    full_df = pd.DataFrame()\n",
    "    for i in range(features):\n",
    "        full_df[i]=return_feature(all_columns[i],observations)\n",
    "    return full_df, all_columns"
   ]
  },
  {
   "cell_type": "code",
   "execution_count": 4,
   "metadata": {},
   "outputs": [
    {
     "name": "stdout",
     "output_type": "stream",
     "text": [
      "Wall time: 29.1 ms\n"
     ]
    }
   ],
   "source": [
    "%%time\n",
    "df,cols = create_random_dataset(10000,45)"
   ]
  },
  {
   "cell_type": "markdown",
   "metadata": {},
   "source": [
    "### Function to quickly get subset of columns with specific distribution"
   ]
  },
  {
   "cell_type": "code",
   "execution_count": 5,
   "metadata": {
    "collapsed": true
   },
   "outputs": [],
   "source": [
    "def select_subset(full_df,all_columns,method):\n",
    "    return full_df[np.arange(len(all_columns))[all_columns==method]]"
   ]
  },
  {
   "cell_type": "code",
   "execution_count": 8,
   "metadata": {},
   "outputs": [
    {
     "name": "stdout",
     "output_type": "stream",
     "text": [
      "normal : 30\n",
      "uniform : 15\n",
      "45\n"
     ]
    }
   ],
   "source": [
    "#Check amount of differenct distributions sampled, i.e. all features per catergory\n",
    "tot = 0\n",
    "for i in np.unique(cols):\n",
    "    res = len(select_subset(df,cols,i).columns)\n",
    "    tot += res\n",
    "    print(i,':',res)\n",
    "print(tot)"
   ]
  },
  {
   "cell_type": "markdown",
   "metadata": {},
   "source": [
    "### Function to add correlation to the data"
   ]
  },
  {
   "cell_type": "code",
   "execution_count": 9,
   "metadata": {
    "collapsed": true
   },
   "outputs": [],
   "source": [
    "def add_random_correlation(df_,iterator=100):\n",
    "    df = df_.copy()\n",
    "    for i in range(iterator):\n",
    "        factor = np.random.uniform(low=0.1, high=2.5, size=1)[0]\n",
    "        a,b = np.random.choice(df.columns.tolist(),2,replace=False)\n",
    "        df[a] = df[a] + np.random.choice([-1,1],1)*factor*df[b]\n",
    "    return df"
   ]
  },
  {
   "cell_type": "code",
   "execution_count": 10,
   "metadata": {},
   "outputs": [
    {
     "name": "stdout",
     "output_type": "stream",
     "text": [
      "Wall time: 52.1 ms\n"
     ]
    }
   ],
   "source": [
    "%%time\n",
    "df_poor = add_random_correlation(df,iterator=100)"
   ]
  },
  {
   "cell_type": "code",
   "execution_count": 150,
   "metadata": {},
   "outputs": [
    {
     "data": {
      "text/plain": [
       "(array([  44.,   36.,   68.,  126.,  936.,  530.,  136.,   54.,   18.,   77.]),\n",
       " array([-0.98828885, -0.78945996, -0.59063108, -0.39180219, -0.19297331,\n",
       "         0.00585558,  0.20468446,  0.40351335,  0.60234223,  0.80117112,  1.        ]),\n",
       " <a list of 10 Patch objects>)"
      ]
     },
     "execution_count": 150,
     "metadata": {},
     "output_type": "execute_result"
    },
    {
     "data": {
      "image/png": "[encoded data removed]",
      "text/plain": [
       "<matplotlib.figure.Figure at 0x1c048ccaa58>"
      ]
     },
     "metadata": {},
     "output_type": "display_data"
    }
   ],
   "source": [
    "#Check Correlation across Data Set\n",
    "plt.hist(df_poor.corr().values.ravel())"
   ]
  },
  {
   "cell_type": "markdown",
   "metadata": {},
   "source": [
    "With 500 iterations, features are correlated with each other over and over again. Features will therefore have more extreme correlation than with 100 iterations. We will save both type of datasets."
   ]
  },
  {
   "cell_type": "code",
   "execution_count": 11,
   "metadata": {},
   "outputs": [
    {
     "name": "stdout",
     "output_type": "stream",
     "text": [
      "Wall time: 305 ms\n"
     ]
    },
    {
     "data": {
      "image/png": "[encoded data removed]",
      "text/plain": [
       "<matplotlib.figure.Figure at 0x248d11baba8>"
      ]
     },
     "metadata": {},
     "output_type": "display_data"
    }
   ],
   "source": [
    "%%time\n",
    "df_rich = add_random_correlation(df,iterator=500)\n",
    "plt.hist(df_rich.corr().values.ravel())"
   ]
  },
  {
   "cell_type": "markdown",
   "metadata": {},
   "source": [
    "### Create dependent variable"
   ]
  },
  {
   "cell_type": "code",
   "execution_count": 14,
   "metadata": {
    "collapsed": true
   },
   "outputs": [],
   "source": [
    "#Random linear function with noise\n",
    "def create_random_linear_y(df_,noise_factor=1):\n",
    "    df = df_.copy()\n",
    "    length_ = len(df_.columns.tolist())\n",
    "    random_weights = np.random.randn(length_) \n",
    "    print(random_weights.mean())\n",
    "    df['y'] = np.dot(df.as_matrix(),random_weights.reshape(-1,1)) #.ravel()\n",
    "    df['y'] = df['y'] + noise_factor*np.random.randn(len(df))\n",
    "    return df"
   ]
  },
  {
   "cell_type": "markdown",
   "metadata": {},
   "source": [
    "The correlation between y and each individual x feature depends on the overall correlation between the features. By adding more or less noise to the y variable, we can influence how easy it is to predict y from a combination of those x features. We will save three levels of difficulties (normally distributed noise with a standard deviation of 0.1, 1 and 5) for each type of data correlation (poor and rich). "
   ]
  },
  {
   "cell_type": "code",
   "execution_count": 24,
   "metadata": {
    "scrolled": true
   },
   "outputs": [
    {
     "name": "stdout",
     "output_type": "stream",
     "text": [
      "0.0527903986583\n",
      "-0.0745280897679\n",
      "-0.106351277666\n"
     ]
    }
   ],
   "source": [
    "df_poor_little = create_random_linear_y(df_poor, noise_factor = 0.1)\n",
    "df_poor_much = create_random_linear_y(df_poor, noise_factor = 5)"
   ]
  },
  {
   "cell_type": "code",
   "execution_count": 36,
   "metadata": {},
   "outputs": [
    {
     "name": "stdout",
     "output_type": "stream",
     "text": [
      "-0.0336165648625\n",
      "-0.0573365437484\n",
      "0.0395265921258\n"
     ]
    }
   ],
   "source": [
    "df_rich_little = create_random_linear_y(df_rich, noise_factor = 0.1)\n",
    "df_rich_much = create_random_linear_y(df_rich, noise_factor = 5)"
   ]
  },
  {
   "cell_type": "code",
   "execution_count": 37,
   "metadata": {
    "collapsed": true
   },
   "outputs": [],
   "source": [
    "df_poor_small.to_csv('Data/custom_dataset_poor_small.txt',sep='\\t')\n",
    "df_poor_medium.to_csv('Data/custom_dataset_poor_medium.txt',sep='\\t')\n",
    "df_poor_large.to_csv('Data/custom_dataset_poor_large.txt',sep='\\t')\n",
    "df_rich_small.to_csv('Data/custom_dataset_rich_small.txt',sep='\\t')\n",
    "df_rich_medium.to_csv('Data/custom_dataset_rich_medium.txt',sep='\\t')\n",
    "df_rich_large.to_csv('Data/custom_dataset_rich_large.txt',sep='\\t')"
   ]
  }
 ],
 "metadata": {
  "kernelspec": {
   "display_name": "Python 3",
   "language": "python",
   "name": "python3"
  },
  "language_info": {
   "codemirror_mode": {
    "name": "ipython",
    "version": 3
   },
   "file_extension": ".py",
   "mimetype": "text/x-python",
   "name": "python",
   "nbconvert_exporter": "python",
   "pygments_lexer": "ipython3",
   "version": "3.6.2"
  }
 },
 "nbformat": 4,
 "nbformat_minor": 2
}
