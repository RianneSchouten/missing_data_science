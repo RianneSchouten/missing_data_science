{
 "cells": [
  {
   "cell_type": "markdown",
   "metadata": {},
   "source": [
    "## Evaluate complete data\n",
    "\n",
    "In this file, we calculate the evaluation error metrics for the complete datasets. "
   ]
  },
  {
   "cell_type": "code",
   "execution_count": 11,
   "metadata": {
    "collapsed": true
   },
   "outputs": [],
   "source": [
    "import pandas as pd\n",
    "from sklearn.model_selection import KFold\n",
    "from sklearn.preprocessing import StandardScaler\n",
    "from sklearn.linear_model import LinearRegression\n",
    "from sklearn.model_selection import train_test_split\n",
    "from sklearn.metrics import mean_absolute_error as mae\n",
    "from sklearn.metrics import mean_squared_error as mse\n",
    "from sklearn.metrics import explained_variance_score as ev\n",
    "from math import sqrt"
   ]
  },
  {
   "cell_type": "code",
   "execution_count": 12,
   "metadata": {
    "collapsed": true
   },
   "outputs": [],
   "source": [
    "k_fold = KFold(n_splits=5, random_state=None)\n",
    "lin = LinearRegression()\n",
    "def perform_crossvalidation(df, output_variable):\n",
    "    results_mse = []\n",
    "    results_rmse = []\n",
    "    results_ev = []\n",
    "    results_mae = []\n",
    "    results_dif = []\n",
    "    for train_indices, cv_indices in k_fold.split(df):\n",
    "        \n",
    "        X_train = df.drop(output_variable, 1).iloc[train_indices]\n",
    "        y_train = df[output_variable].iloc[train_indices]\n",
    "        X_val = df.drop(output_variable, 1).iloc[cv_indices]\n",
    "        y_val = df[output_variable].iloc[cv_indices]\n",
    "        \n",
    "        scaler = StandardScaler()\n",
    "        scaler.fit(X_train)\n",
    "        X_train = pd.DataFrame(data=scaler.transform(X_train), columns=X_train.columns) \n",
    "        X_val = pd.DataFrame(data=scaler.transform(X_val), columns=X_val.columns)\n",
    "        \n",
    "        lin.fit(X_train, y_train)\n",
    "        pred = lin.predict(X_val)\n",
    "        results_mse.append(mse(y_val,pred))\n",
    "        results_rmse.append(sqrt(mse(y_val,pred)))\n",
    "        results_ev.append(ev(y_val,pred))\n",
    "        results_mae.append(mae(y_val,pred))\n",
    "        results_dif.append(mse(y_train,lin.predict(X_train))-mse(y_val,pred))\n",
    "    \n",
    "    print('mse: {}, rmse: {}, ev: {}, mae: {}, dif: {}'.format(sum(results_mse) / len(results_mse),\n",
    "                                                      sum(results_rmse) / len(results_rmse),\n",
    "                                                      sum(results_ev) / len(results_ev),\n",
    "                                                      sum(results_mae) / len(results_mae),\n",
    "                                                      sum(results_dif) / len(results_dif)))"
   ]
  },
  {
   "cell_type": "code",
   "execution_count": 13,
   "metadata": {},
   "outputs": [
    {
     "name": "stdout",
     "output_type": "stream",
     "text": [
      "mse: 4160.6025751093675, rmse: 50.39409776536349, ev: -0.785222922286694, mae: 21.47722507742217\n"
     ]
    }
   ],
   "source": [
    "df_ff = pd.read_csv('Data/forest_fires.txt',sep='\\t')\n",
    "perform_crossvalidation(df_ff, 'area')"
   ]
  },
  {
   "cell_type": "code",
   "execution_count": 14,
   "metadata": {},
   "outputs": [
    {
     "name": "stdout",
     "output_type": "stream",
     "text": [
      "mse: 62.468300175745206, rmse: 7.841669613615873, ev: 0.14597547928759338, mae: 6.482574773050887\n"
     ]
    }
   ],
   "source": [
    "df_st = pd.read_csv('Data/slump_test.txt',sep='\\t')\n",
    "perform_crossvalidation(df_st, 'SLUMP(cm)')"
   ]
  },
  {
   "cell_type": "code",
   "execution_count": null,
   "metadata": {
    "collapsed": true
   },
   "outputs": [],
   "source": [
    "df_rwq = pd.read_csv('Data/red_wine_quality.txt',sep='\\t')\n",
    "perform_crossvalidation(df_rwq, 'quality')"
   ]
  },
  {
   "cell_type": "code",
   "execution_count": null,
   "metadata": {
    "collapsed": true
   },
   "outputs": [],
   "source": [
    "df_sac = pd.read_csv('Data/school_alcohol_consumption.txt',sep='\\t')\n",
    "perform_crossvalidation(df_sac, 'Dalc')"
   ]
  },
  {
   "cell_type": "code",
   "execution_count": 16,
   "metadata": {},
   "outputs": [
    {
     "name": "stdout",
     "output_type": "stream",
     "text": [
      "mse: 0.010110726381626738, rmse: 0.10055144357437054, ev: 0.9999858989122185, mae: 0.08061058384105854\n"
     ]
    }
   ],
   "source": [
    "df = pd.read_csv('Data/custom_dataset_poor_little.txt',sep='\\t')\n",
    "perform_crossvalidation(df, 'y')"
   ]
  },
  {
   "cell_type": "code",
   "execution_count": 17,
   "metadata": {},
   "outputs": [
    {
     "name": "stdout",
     "output_type": "stream",
     "text": [
      "mse: 24.602855969289422, rmse: 4.959966904760806, ev: 0.99176344658143, mae: 3.9603103483557036\n"
     ]
    }
   ],
   "source": [
    "df = pd.read_csv('Data/custom_dataset_poor_much.txt',sep='\\t')\n",
    "perform_crossvalidation(df, 'y')"
   ]
  },
  {
   "cell_type": "code",
   "execution_count": 18,
   "metadata": {},
   "outputs": [
    {
     "name": "stdout",
     "output_type": "stream",
     "text": [
      "mse: 0.00978710161916523, rmse: 0.09891211936593731, ev: 0.9999999999985677, mae: 0.07904486715523447\n"
     ]
    }
   ],
   "source": [
    "df = pd.read_csv('Data/custom_dataset_rich_little.txt',sep='\\t')\n",
    "perform_crossvalidation(df, 'y')"
   ]
  },
  {
   "cell_type": "code",
   "execution_count": 19,
   "metadata": {},
   "outputs": [
    {
     "name": "stdout",
     "output_type": "stream",
     "text": [
      "mse: 24.866799186237536, rmse: 4.986148967423025, ev: 0.9999996356182048, mae: 3.9608002240642954\n"
     ]
    }
   ],
   "source": [
    "df = pd.read_csv('Data/custom_dataset_rich_much.txt',sep='\\t')\n",
    "perform_crossvalidation(df, 'y')"
   ]
  }
 ],
 "metadata": {
  "kernelspec": {
   "display_name": "Python 3",
   "language": "python",
   "name": "python3"
  },
  "language_info": {
   "codemirror_mode": {
    "name": "ipython",
    "version": 3
   },
   "file_extension": ".py",
   "mimetype": "text/x-python",
   "name": "python",
   "nbconvert_exporter": "python",
   "pygments_lexer": "ipython3",
   "version": "3.6.2"
  }
 },
 "nbformat": 4,
 "nbformat_minor": 2
}
