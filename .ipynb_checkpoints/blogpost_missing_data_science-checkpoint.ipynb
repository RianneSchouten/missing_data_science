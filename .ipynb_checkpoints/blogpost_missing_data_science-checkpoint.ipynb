{
 "cells": [
  {
   "cell_type": "markdown",
   "metadata": {},
   "source": [
    "# Missing Values Treatment in Data Science\n",
    "\n",
    "In an application-orientated field like data science, available datasets are almost always incomplete. Whether you like it or not, missing values treatment will become part of your analysis. \n",
    "\n",
    "Even in the situation where a data scientist quickly drops incomplete records from a dataset, a missing values treatment has (unconsciously) been chosen. Was it the most appropriate method, though? Or would the analysis outcome become different when a different missing data method was applied? \n",
    "\n",
    "In this blogpost, we present an interactive plot that can be used to explore the effect of missing data methods on several evaluation error metrics of a data science regression model.  "
   ]
  },
  {
   "cell_type": "markdown",
   "metadata": {},
   "source": [
    "## Missing data exploration\n",
    "\n",
    "Consider dataset 'Concrete Slump Test' from https://archive.ics.uci.edu/ml/machine-learning-databases/concrete/slump/. The data consists of 7 numerical features predicting the slump of concrete in centimeters. Because the original dataset does not contain missing values, we generated the missing values with our custom function `delete_data()` (all our functions and simulation code can be found on https://github.com/RianneSchouten/missing_data_science).\n",
    "\n",
    "Let's quickly explore the incomplete Concrete Slump Test dataset. "
   ]
  },
  {
   "cell_type": "code",
   "execution_count": 26,
   "metadata": {},
   "outputs": [
    {
     "data": {
      "text/plain": [
       "(103, 8)"
      ]
     },
     "execution_count": 26,
     "metadata": {},
     "output_type": "execute_result"
    }
   ],
   "source": [
    "import pandas as pd\n",
    "data_slump = pd.read_table('Simulations/Data/slump_test_incomplete.txt', sep='\\t')\n",
    "data_slump.shape"
   ]
  },
  {
   "cell_type": "code",
   "execution_count": 27,
   "metadata": {},
   "outputs": [
    {
     "data": {
      "text/html": [
       "<div>\n",
       "<style>\n",
       "    .dataframe thead tr:only-child th {\n",
       "        text-align: right;\n",
       "    }\n",
       "\n",
       "    .dataframe thead th {\n",
       "        text-align: left;\n",
       "    }\n",
       "\n",
       "    .dataframe tbody tr th {\n",
       "        vertical-align: top;\n",
       "    }\n",
       "</style>\n",
       "<table border=\"1\" class=\"dataframe\">\n",
       "  <thead>\n",
       "    <tr style=\"text-align: right;\">\n",
       "      <th></th>\n",
       "      <th>Cement</th>\n",
       "      <th>Slag</th>\n",
       "      <th>Fly ash</th>\n",
       "      <th>Water</th>\n",
       "      <th>SP</th>\n",
       "      <th>Coarse Aggr.</th>\n",
       "      <th>Fine Aggr.</th>\n",
       "      <th>SLUMP(cm)</th>\n",
       "    </tr>\n",
       "  </thead>\n",
       "  <tbody>\n",
       "    <tr>\n",
       "      <th>count</th>\n",
       "      <td>78.000000</td>\n",
       "      <td>78.000000</td>\n",
       "      <td>78.000000</td>\n",
       "      <td>78.000000</td>\n",
       "      <td>78.000000</td>\n",
       "      <td>78.000000</td>\n",
       "      <td>78.000000</td>\n",
       "      <td>103.000000</td>\n",
       "    </tr>\n",
       "    <tr>\n",
       "      <th>mean</th>\n",
       "      <td>234.155128</td>\n",
       "      <td>77.011538</td>\n",
       "      <td>144.641026</td>\n",
       "      <td>196.002564</td>\n",
       "      <td>8.575641</td>\n",
       "      <td>878.641026</td>\n",
       "      <td>745.105128</td>\n",
       "      <td>18.048544</td>\n",
       "    </tr>\n",
       "    <tr>\n",
       "      <th>std</th>\n",
       "      <td>79.702410</td>\n",
       "      <td>59.758251</td>\n",
       "      <td>87.252087</td>\n",
       "      <td>19.885249</td>\n",
       "      <td>2.862121</td>\n",
       "      <td>84.127386</td>\n",
       "      <td>65.604795</td>\n",
       "      <td>8.750844</td>\n",
       "    </tr>\n",
       "    <tr>\n",
       "      <th>min</th>\n",
       "      <td>137.000000</td>\n",
       "      <td>0.000000</td>\n",
       "      <td>0.000000</td>\n",
       "      <td>160.000000</td>\n",
       "      <td>4.600000</td>\n",
       "      <td>708.000000</td>\n",
       "      <td>640.600000</td>\n",
       "      <td>0.000000</td>\n",
       "    </tr>\n",
       "    <tr>\n",
       "      <th>25%</th>\n",
       "      <td>153.250000</td>\n",
       "      <td>0.000000</td>\n",
       "      <td>115.250000</td>\n",
       "      <td>179.225000</td>\n",
       "      <td>6.000000</td>\n",
       "      <td>819.500000</td>\n",
       "      <td>686.500000</td>\n",
       "      <td>14.500000</td>\n",
       "    </tr>\n",
       "    <tr>\n",
       "      <th>50%</th>\n",
       "      <td>250.150000</td>\n",
       "      <td>98.000000</td>\n",
       "      <td>164.000000</td>\n",
       "      <td>193.950000</td>\n",
       "      <td>7.850000</td>\n",
       "      <td>876.500000</td>\n",
       "      <td>753.000000</td>\n",
       "      <td>21.500000</td>\n",
       "    </tr>\n",
       "    <tr>\n",
       "      <th>75%</th>\n",
       "      <td>308.750000</td>\n",
       "      <td>125.500000</td>\n",
       "      <td>227.000000</td>\n",
       "      <td>209.000000</td>\n",
       "      <td>10.000000</td>\n",
       "      <td>948.425000</td>\n",
       "      <td>789.150000</td>\n",
       "      <td>24.000000</td>\n",
       "    </tr>\n",
       "    <tr>\n",
       "      <th>max</th>\n",
       "      <td>374.000000</td>\n",
       "      <td>180.000000</td>\n",
       "      <td>250.000000</td>\n",
       "      <td>240.000000</td>\n",
       "      <td>19.000000</td>\n",
       "      <td>1049.500000</td>\n",
       "      <td>902.000000</td>\n",
       "      <td>29.000000</td>\n",
       "    </tr>\n",
       "  </tbody>\n",
       "</table>\n",
       "</div>"
      ],
      "text/plain": [
       "           Cement        Slag     Fly ash       Water         SP  \\\n",
       "count   78.000000   78.000000   78.000000   78.000000  78.000000   \n",
       "mean   234.155128   77.011538  144.641026  196.002564   8.575641   \n",
       "std     79.702410   59.758251   87.252087   19.885249   2.862121   \n",
       "min    137.000000    0.000000    0.000000  160.000000   4.600000   \n",
       "25%    153.250000    0.000000  115.250000  179.225000   6.000000   \n",
       "50%    250.150000   98.000000  164.000000  193.950000   7.850000   \n",
       "75%    308.750000  125.500000  227.000000  209.000000  10.000000   \n",
       "max    374.000000  180.000000  250.000000  240.000000  19.000000   \n",
       "\n",
       "       Coarse Aggr.  Fine Aggr.   SLUMP(cm)  \n",
       "count     78.000000   78.000000  103.000000  \n",
       "mean     878.641026  745.105128   18.048544  \n",
       "std       84.127386   65.604795    8.750844  \n",
       "min      708.000000  640.600000    0.000000  \n",
       "25%      819.500000  686.500000   14.500000  \n",
       "50%      876.500000  753.000000   21.500000  \n",
       "75%      948.425000  789.150000   24.000000  \n",
       "max     1049.500000  902.000000   29.000000  "
      ]
     },
     "execution_count": 27,
     "metadata": {},
     "output_type": "execute_result"
    }
   ],
   "source": [
    "data_slump.describe()"
   ]
  },
  {
   "cell_type": "code",
   "execution_count": 28,
   "metadata": {},
   "outputs": [
    {
     "data": {
      "text/plain": [
       "Cement           True\n",
       "Slag             True\n",
       "Fly ash          True\n",
       "Water            True\n",
       "SP               True\n",
       "Coarse Aggr.     True\n",
       "Fine Aggr.       True\n",
       "SLUMP(cm)       False\n",
       "dtype: bool"
      ]
     },
     "execution_count": 28,
     "metadata": {},
     "output_type": "execute_result"
    }
   ],
   "source": [
    "data_slump.isnull().any()"
   ]
  },
  {
   "cell_type": "code",
   "execution_count": 29,
   "metadata": {},
   "outputs": [
    {
     "data": {
      "text/plain": [
       "Cement          25\n",
       "Slag            25\n",
       "Fly ash         25\n",
       "Water           25\n",
       "SP              25\n",
       "Coarse Aggr.    25\n",
       "Fine Aggr.      25\n",
       "SLUMP(cm)        0\n",
       "dtype: int64"
      ]
     },
     "execution_count": 29,
     "metadata": {},
     "output_type": "execute_result"
    }
   ],
   "source": [
    "data_slump.isnull().sum()"
   ]
  },
  {
   "cell_type": "code",
   "execution_count": 30,
   "metadata": {},
   "outputs": [
    {
     "data": {
      "text/html": [
       "<div>\n",
       "<style>\n",
       "    .dataframe thead tr:only-child th {\n",
       "        text-align: right;\n",
       "    }\n",
       "\n",
       "    .dataframe thead th {\n",
       "        text-align: left;\n",
       "    }\n",
       "\n",
       "    .dataframe tbody tr th {\n",
       "        vertical-align: top;\n",
       "    }\n",
       "</style>\n",
       "<table border=\"1\" class=\"dataframe\">\n",
       "  <thead>\n",
       "    <tr style=\"text-align: right;\">\n",
       "      <th></th>\n",
       "      <th>Cement</th>\n",
       "      <th>Slag</th>\n",
       "      <th>Fly ash</th>\n",
       "      <th>Water</th>\n",
       "      <th>SP</th>\n",
       "      <th>Coarse Aggr.</th>\n",
       "      <th>Fine Aggr.</th>\n",
       "      <th>SLUMP(cm)</th>\n",
       "    </tr>\n",
       "  </thead>\n",
       "  <tbody>\n",
       "    <tr>\n",
       "      <th>0</th>\n",
       "      <td>273.0</td>\n",
       "      <td>82.0</td>\n",
       "      <td>105.0</td>\n",
       "      <td>210.0</td>\n",
       "      <td>9.0</td>\n",
       "      <td>904.0</td>\n",
       "      <td>680.0</td>\n",
       "      <td>23.0</td>\n",
       "    </tr>\n",
       "    <tr>\n",
       "      <th>1</th>\n",
       "      <td>163.0</td>\n",
       "      <td>149.0</td>\n",
       "      <td>191.0</td>\n",
       "      <td>180.0</td>\n",
       "      <td>12.0</td>\n",
       "      <td>843.0</td>\n",
       "      <td>746.0</td>\n",
       "      <td>0.0</td>\n",
       "    </tr>\n",
       "    <tr>\n",
       "      <th>2</th>\n",
       "      <td>162.0</td>\n",
       "      <td>148.0</td>\n",
       "      <td>191.0</td>\n",
       "      <td>179.0</td>\n",
       "      <td>16.0</td>\n",
       "      <td>840.0</td>\n",
       "      <td>743.0</td>\n",
       "      <td>1.0</td>\n",
       "    </tr>\n",
       "    <tr>\n",
       "      <th>3</th>\n",
       "      <td>162.0</td>\n",
       "      <td>NaN</td>\n",
       "      <td>190.0</td>\n",
       "      <td>179.0</td>\n",
       "      <td>19.0</td>\n",
       "      <td>838.0</td>\n",
       "      <td>741.0</td>\n",
       "      <td>3.0</td>\n",
       "    </tr>\n",
       "    <tr>\n",
       "      <th>4</th>\n",
       "      <td>NaN</td>\n",
       "      <td>112.0</td>\n",
       "      <td>NaN</td>\n",
       "      <td>NaN</td>\n",
       "      <td>10.0</td>\n",
       "      <td>923.0</td>\n",
       "      <td>658.0</td>\n",
       "      <td>20.0</td>\n",
       "    </tr>\n",
       "  </tbody>\n",
       "</table>\n",
       "</div>"
      ],
      "text/plain": [
       "   Cement   Slag  Fly ash  Water    SP  Coarse Aggr.  Fine Aggr.  SLUMP(cm)\n",
       "0   273.0   82.0    105.0  210.0   9.0         904.0       680.0       23.0\n",
       "1   163.0  149.0    191.0  180.0  12.0         843.0       746.0        0.0\n",
       "2   162.0  148.0    191.0  179.0  16.0         840.0       743.0        1.0\n",
       "3   162.0    NaN    190.0  179.0  19.0         838.0       741.0        3.0\n",
       "4     NaN  112.0      NaN    NaN  10.0         923.0       658.0       20.0"
      ]
     },
     "execution_count": 30,
     "metadata": {},
     "output_type": "execute_result"
    }
   ],
   "source": [
    "data_slump.head()"
   ]
  },
  {
   "cell_type": "markdown",
   "metadata": {},
   "source": [
    "An easy way to get deal with missing values is by deleting all incomplete rows (or columns). Apart from the fact that this method can result in severely biased outcomes, dropping incomplete rows from the dataset would also make you lose a lot of valuable observed information. \n",
    "\n",
    "For example, for our `data_slump`, we would lose half of our dataset. "
   ]
  },
  {
   "cell_type": "code",
   "execution_count": 31,
   "metadata": {},
   "outputs": [
    {
     "data": {
      "text/plain": [
       "(61, 8)"
      ]
     },
     "execution_count": 31,
     "metadata": {},
     "output_type": "execute_result"
    }
   ],
   "source": [
    "data_slump.dropna().shape"
   ]
  },
  {
   "cell_type": "markdown",
   "metadata": {},
   "source": [
    "## Missing data mechanisms\n",
    "\n",
    "In missing data theory, we classify missing data problems into three categories: MCAR, MAR and MNAR missingness. For any dataset with missing values in a certain feature X, the missing data is: \n",
    "\n",
    "- Missing Completely At Random (MCAR) when all values have an equal probability of being missing. \n",
    "\n",
    "- Missing At Random (MAR) when the probability of being missing depends on the values of another feature or on the values of the outcome variable. For instance, records with high values for outcome variable 'SLUMP' have a higher probability of being missing on feature 'Cement' or 'Water' (for example since it is harder to measure the percentage of cement or water in those situations).\n",
    "\n",
    "- Missing Not At Random (MNAR) when the probability of being missing in feature X depends on the unobserved (missing) data. This can either be because suitable covariates for explaining missingness have not been recorded (or are otherwise unavailable) or the probability of being missing depends on the missing values itself. Extending the previous example, if the probability of measuring 'Cement' varied according to 'Cement' itself, this is missing not at random. \n",
    "\n",
    "Below, Figures 1, 2 and 3 show the effect of MCAR, MAR and MNAR missingness on the multivariate relationship between a feature X and an outcome variable Y. "
   ]
  },
  {
   "cell_type": "code",
   "execution_count": 32,
   "metadata": {
    "collapsed": true
   },
   "outputs": [],
   "source": [
    "## add figures: Figures/MCAR.pdf, Figures/MAR.pdf, Figures/MNAR.pdf"
   ]
  },
  {
   "cell_type": "markdown",
   "metadata": {},
   "source": [
    "Based on the observed data alone, we cannot distinguish between MAR and MNAR data. However, there are tests available to distinguish MCAR from the other two. The easiest and most commonly used test is Little's MCAR test; a chi-square test that is available in `R`-packages `BaylorEdPsych` or `MissMech`. Rianne is currently working on developing comparable functions in Python (https://github.com/RianneSchouten/pymice)."
   ]
  },
  {
   "cell_type": "markdown",
   "metadata": {},
   "source": [
    "## Missing data methods\n",
    "\n",
    "There is an extensive amount of missing data methods available in several software packages. In Python, it is easy to implement a method such as `dropna()` or to use the `mean` or `median` imputation functions from sklearn's `Imputer` class. \n",
    "\n",
    "However, how do you know which missing data method is most appropriate? What are the differences between all these methods?  \n",
    "\n",
    "In our simulation, we implemented the following six missing values treatments. \n",
    "\n",
    "- Listwise deletion: Drop incomplete rows from the dataset\n",
    "- Mean imputation: imputation with the column (i.e. feature) mean\n",
    "- Median imputation: imputation with the column (i.e. feature) median\n",
    "- Random imputation: imputation with a randomly chosen observed value (per column)\n",
    "- Regression imputation: each column (i.e. feature) is regressed on the other features. We predict each incomplete value by using the observed values of the other features. When a predictive value is unobserved, we use mean imputation first\n",
    "- Stochastic regression imputation: to account for the uncertainty of the regression model, we add (or subtract) a random amount from the prediction as obtained with regression imputation"
   ]
  },
  {
   "cell_type": "markdown",
   "metadata": {},
   "source": [
    "## Simulation setup\n",
    "\n",
    "The setup of our simulation is as follows: \n",
    "\n",
    "- For a given dataset, we generate missing values with our function `delete_data` (in file 'simulation.ipynb'). We assign missing values to all X features, but the output variable remains complete. For different simulation rounds, we create a MCAR, MAR or MNAR missingness mechanism. In case of MAR missingness, we base the missingess in the X features on the output variable.\n",
    "- We also vary the missingness percentages. We have chosen to generate missing values with 5%, 10%, 15%, up to 55%.\n",
    "- In each simulation, the incomplete dataset is split into 60% trainingset and 40% testset. We apply six kinds of missing values treatment: `dropna()`, `mean` and `median` imputation with `.Imputer`, and `random`, `regression` and `stochastic` regression imputation with three custom functions (available in file 'simulation.ipynb'). \n",
    "- We use a simple analysis model: `LinearRegression()` from `sklearn.linear_model` and evaluate with `sklearn.metrics`: `mean_squared_error`, sqrt(`mean_squared_error`), `mean_absolute_error` and `explained_variance`. \n",
    "- Every combination of missingness mechanism, missingness proportion and missing values treatment is repeated 500 times for the real datasets and 50 times for the simulated datastes. We report the average and IQR of the evaluation metrics. \n",
    "\n",
    "For now, we used two real datasets and four simulated datasets. Import and generation of these datasets can be found in files 'import_real_data.ipynb' and 'generate_data.ipynb' on https://github.com/RianneSchouten/missing_data_science. All simulation code is in file 'simulation.ipynb'."
   ]
  },
  {
   "cell_type": "markdown",
   "metadata": {},
   "source": [
    "## Simulation results\n",
    "\n",
    "Explore the outcome of the simulations in our interactive plot. Select the dataset, missingness mechanism, evaluation metric, missing data method, whether you want to see the inter quartile range (IQR) and whether you want to see the percentage of missing rows or the percentage of missing cells.\n",
    "\n",
    "A discussion of some of the output is given below the figure. "
   ]
  },
  {
   "cell_type": "code",
   "execution_count": 33,
   "metadata": {
    "collapsed": true
   },
   "outputs": [],
   "source": [
    "# add interactive plot"
   ]
  },
  {
   "cell_type": "markdown",
   "metadata": {},
   "source": [
    "### Concrete Slump Test\n",
    "\n",
    "The Concrete Slump Test data has 7 numerical features that are used to predict the slump in cubic centimeters. In file 'evaluation_complete_data.ipynb', we calculated the error metrics for the original, complete dataset. These values could serve as a baseline or reference for the outcome of the simulations. The error metrics are as follows:\n",
    "\n",
    "- MSE: 62.5\n",
    "- RMSE: 7.8\n",
    "- MAE: 6.5\n",
    "- EV: 0.15\n",
    "\n",
    "Let's start with exploring the error metrics for MCAR data. It turns out that on average, after imputing the missing values, the MSE, RMSE and MAE values decrease and the EV values increase. See for instance the MSE plot. "
   ]
  },
  {
   "cell_type": "code",
   "execution_count": 34,
   "metadata": {
    "collapsed": true
   },
   "outputs": [],
   "source": [
    "# MSE plot Slump test MCAR data with rows"
   ]
  },
  {
   "cell_type": "markdown",
   "metadata": {},
   "source": [
    "It seems that with a MCAR mechanism, the imputation methods perform equal for low missingness percentages. When the proportion of missing rows increases, `mean` and `median` imputation give lower MSE values than the other missing data methodologies. `regression` and `stochastic` regression imputation perform quite equal, but worse than `mean` and `median` imputation. `random` imputation seems to be the worst method, resulting in large MSE, RMSE and MAE values and explained variancs below 30%.\n",
    "\n",
    "For this particular dataset, a MCAR mechanism would give the best evaluation metrics when the `drop.na()` method is used. Interestingly, if the missingness mechanism is MAR, `drop.na()` gives MSE and RMSE values comparable with most of the imputation methods. Yet, the explained variance is still the largest of the six missing data methods. "
   ]
  },
  {
   "cell_type": "code",
   "execution_count": 35,
   "metadata": {
    "collapsed": true
   },
   "outputs": [],
   "source": [
    "# MSE plot Slump test MAR data with rows"
   ]
  },
  {
   "cell_type": "markdown",
   "metadata": {},
   "source": [
    "In addition, with a MAR mechanism, the error metrics after using `regression` and `stochastic` regression imputation become more distinct from `mean` and `median` imputation. This effect is most clear for higher missingness percentages. Apparently, in the MAR situation, the missingness brings such an amount of bias in the prediction of outcome variable 'SLUMP', that it is wiser to use `mean` and `median` imputation. "
   ]
  },
  {
   "cell_type": "markdown",
   "metadata": {},
   "source": [
    "### Forest Fires\n",
    "\n",
    "The Forest Fires data is obtained from https://archive.ics.uci.edu/ml/machine-learning-databases/forest-fires/. A linear regression model with the complete dataset gives the following evaluation error metrics:\n",
    "\n",
    "- MSE: 4160.6\n",
    "- RMSE: 50.39\n",
    "- MAE: 21.5\n",
    "- EV: -0.8\n",
    "\n",
    "The MSE outcome of the `drop.na()` method turns out to be quite unstable and much more extreme than the other missing data methods. Therefore, it is more useful to unclick the `drop.na()` method and focus on the other methodologies."
   ]
  },
  {
   "cell_type": "code",
   "execution_count": 36,
   "metadata": {
    "collapsed": true
   },
   "outputs": [],
   "source": [
    "# MSE outcome Forest firest, rows, MCAR"
   ]
  },
  {
   "cell_type": "markdown",
   "metadata": {},
   "source": [
    "It immediately becomes clear that in this dataset, `regression` imputation gives results comparable with `mean` and `median` imputation. `stochastic` regression imputation still performs worse. \n",
    "\n",
    "It is most likely that this outcome has to do with the correlation structure in the data. If the features of a dataset poorly correlate (or have a non-linear correlation), a mean or median estimate is comparable with a regression estimate. With increasing correlations, independent features have more power in predicting a missing value. \n",
    "\n",
    "Another result of the correlation structure in the 'Forest Fires' dataset is the uncertainty of the regression estimates of the imputation regression model. As a result, the amount of noise added to the `stochastic` regression imputations is quite large. Therefore, the results from `stochastic` imputation come close to the results of `random` imputation. "
   ]
  },
  {
   "cell_type": "markdown",
   "metadata": {},
   "source": [
    "There seem to be few differences between the three missingness mechanisms. The only distinction between the three mechanisms is that with MAR missingness, the differences between the missing data methods are larger with factor 2. In other words, although the order of the missing data methods is similar for MCAR, MAR and MNAR data, any difference between two missing data methods is twice as large for MAR missingness than for MCAR or MNAR data.  "
   ]
  },
  {
   "cell_type": "markdown",
   "metadata": {},
   "source": [
    "Note that the performance of the regression model is quite bad. On average, we wrongly predict the area of a forest fire with 21.5 hectare. In addition, only 2 to 4 percent of the variance in 'area' is explained by the model. Note as well that if you select the IQR of the simulations, the evaluation metrics greatly overlap. This shows that the differences between the missing data methods may not be that large. "
   ]
  },
  {
   "cell_type": "code",
   "execution_count": 37,
   "metadata": {
    "collapsed": true
   },
   "outputs": [],
   "source": [
    "## MSE outcome rows, MCAR, IQR"
   ]
  },
  {
   "cell_type": "markdown",
   "metadata": {},
   "source": [
    "### Simulated data\n",
    "\n",
    "In addition to the real data, we generated 4 datasets with each 10.000 records with 30 normally distributed features and 15 features with a uniform distribution. We added correlation between the features, such that 2 of the 4 datasets have a poor correlation structure and the other two a rich correlation structure. A continuous output variable is sampled by making a linear equation with the features, with a random weights vector, and the addition of some noise. We generated the output variable with two levels of noise: little and much. "
   ]
  },
  {
   "cell_type": "code",
   "execution_count": 38,
   "metadata": {},
   "outputs": [
    {
     "data": {
      "text/plain": [
       "(array([   16.,    18.,    52.,   100.,  1268.,   510.,   112.,    38.,\n",
       "           32.,    63.]),\n",
       " array([-0.98213356, -0.7839202 , -0.58570685, -0.38749349, -0.18928014,\n",
       "         0.00893322,  0.20714658,  0.40535993,  0.60357329,  0.80178664,  1.        ]),\n",
       " <a list of 10 Patch objects>)"
      ]
     },
     "execution_count": 38,
     "metadata": {},
     "output_type": "execute_result"
    },
    {
     "data": {
      "image/png": "[encoded data removed]",
      "text/plain": [
       "<matplotlib.figure.Figure at 0x2781063f908>"
      ]
     },
     "metadata": {},
     "output_type": "display_data"
    }
   ],
   "source": [
    "import matplotlib.pyplot as plt\n",
    "%matplotlib inline\n",
    "df_poor = pd.read_table('Simulations/Data/custom_dataset_poor_little.txt', sep='\\t')\n",
    "plt.hist(df_poor.corr().values.ravel())"
   ]
  },
  {
   "cell_type": "code",
   "execution_count": 39,
   "metadata": {},
   "outputs": [
    {
     "data": {
      "text/plain": [
       "(array([ 498.,  250.,  130.,  100.,  148.,  124.,   76.,   88.,  252.,  543.]),\n",
       " array([ -9.98816871e-01,  -7.98935184e-01,  -5.99053497e-01,\n",
       "         -3.99171810e-01,  -1.99290123e-01,   5.91564378e-04,\n",
       "          2.00473252e-01,   4.00354939e-01,   6.00236626e-01,\n",
       "          8.00118313e-01,   1.00000000e+00]),\n",
       " <a list of 10 Patch objects>)"
      ]
     },
     "execution_count": 39,
     "metadata": {},
     "output_type": "execute_result"
    },
    {
     "data": {
      "image/png": "[encoded data removed]",
      "text/plain": [
       "<matplotlib.figure.Figure at 0x2781137f0b8>"
      ]
     },
     "metadata": {},
     "output_type": "display_data"
    }
   ],
   "source": [
    "df_rich = pd.read_table('Simulations/Data/custom_dataset_rich_little.txt', sep = '\\t')\n",
    "plt.hist(df_rich.corr().values.ravel())"
   ]
  },
  {
   "cell_type": "markdown",
   "metadata": {},
   "source": [
    "The table below shows the evaluation metrics for the complete datasets. "
   ]
  },
  {
   "cell_type": "code",
   "execution_count": 40,
   "metadata": {
    "collapsed": true
   },
   "outputs": [],
   "source": [
    "# table with output?"
   ]
  },
  {
   "cell_type": "markdown",
   "metadata": {},
   "source": [
    "From the values, it becomes clear that the simulated datasets are quite perfect datasets. All four datasets have an explained variance perfecentage of 99.99%. The MSE is 0.01 for the datasets with little noise and 24.6 for the data with much noise. The MAE increases from 0.08 to 4.0. "
   ]
  },
  {
   "cell_type": "markdown",
   "metadata": {},
   "source": [
    "The perfect characteristics of these datasets make that some missing data methods give exactly similar results. For instance, `mean` and `median` imputation give the same results, and `regression` and `stochastic` imputation as well."
   ]
  },
  {
   "cell_type": "code",
   "execution_count": 41,
   "metadata": {
    "collapsed": true
   },
   "outputs": [],
   "source": [
    "# data poor correlation and much noise"
   ]
  },
  {
   "cell_type": "markdown",
   "metadata": {},
   "source": [
    "What we can understand from the simulated datasets, is that the performance of `regression` imputation is clearly affected by the correlation structure of the data. Earlier, we saw that `regression` imputation performs comparable with `mean` and `median` imputation when the correlation structure is poor. For the simulated datasets with the poor correlation structure, `regression` imputation gives even lower MSE, RMSE and MAE values than `mean` and `median` imputation. It seems that `regression` imputation is a useful method when the correlation structure of the data is poor. "
   ]
  },
  {
   "cell_type": "markdown",
   "metadata": {},
   "source": [
    "## Conclusion\n",
    "\n",
    "The effect of missing values treatment on the outcome of a data science regression model depends on the characteristics of the data. Yet, this effect may be smaller than we think. Some general conclusions:\n",
    "\n",
    "1. For relatively low missingness percentages, there is almost no difference between the missing data methodologies. The differences occur for higher missingness percentages. \n",
    "2. When the missingness in the trainingset is similar to the missingness in the testset (as is the case in our simulations), the type of missingness mechanism is not on influence on the performance of the model or the choice of missing data method.\n",
    "3. The performance of `regression` imputation is sensitive for the correlation structure in the data. With small correlations, the evaluations metrics after using `regression` imputation are smaller than when using `mean` or `median` imputation.\n",
    "4. `mean` and `median` imputation seem to give the most stable results, independent of specific data characteristics. "
   ]
  },
  {
   "cell_type": "markdown",
   "metadata": {},
   "source": [
    "## Contact information\n",
    "\n",
    "Rianne Schouten, Missing Data Specialist, rianne.schouten@dpa.nl\n",
    "\n",
    "Coen Seinen, Data Scientist, coen.seinen@bigdatarepublic.nl"
   ]
  }
 ],
 "metadata": {
  "kernelspec": {
   "display_name": "Python 3",
   "language": "python",
   "name": "python3"
  },
  "language_info": {
   "codemirror_mode": {
    "name": "ipython",
    "version": 3
   },
   "file_extension": ".py",
   "mimetype": "text/x-python",
   "name": "python",
   "nbconvert_exporter": "python",
   "pygments_lexer": "ipython3",
   "version": "3.6.2"
  }
 },
 "nbformat": 4,
 "nbformat_minor": 2
}
